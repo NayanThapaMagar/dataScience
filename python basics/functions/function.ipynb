{
 "cells": [
  {
   "cell_type": "markdown",
   "id": "9b52b877-0607-4044-b42d-4abe9c815381",
   "metadata": {},
   "source": [
    "## Python Function"
   ]
  },
  {
   "cell_type": "markdown",
   "id": "91bfd8bd-99ea-49d7-8b19-6fae008d3f94",
   "metadata": {},
   "source": [
    "### built in function"
   ]
  },
  {
   "cell_type": "markdown",
   "id": "e795d159-e6fc-49a9-821e-a77c8d4de31d",
   "metadata": {},
   "source": [
    "### print"
   ]
  },
  {
   "cell_type": "code",
   "execution_count": 6,
   "id": "b1e1047b-b3ae-4c03-98a5-d8ab03f69777",
   "metadata": {},
   "outputs": [
    {
     "name": "stdout",
     "output_type": "stream",
     "text": [
      "The value of x is  3  and y is  5\n"
     ]
    }
   ],
   "source": [
    "x = 3\n",
    "y = 5\n",
    "print('The value of x is ', x,' and y is ', y )"
   ]
  },
  {
   "cell_type": "code",
   "execution_count": 3,
   "id": "b237ac59-ba75-4b12-bcb4-bc9b8b9a0916",
   "metadata": {},
   "outputs": [
    {
     "name": "stdout",
     "output_type": "stream",
     "text": [
      "hello-world\n"
     ]
    }
   ],
   "source": [
    "print('hello', 'world', sep='-')"
   ]
  },
  {
   "cell_type": "code",
   "execution_count": 5,
   "id": "ac941847-6922-44ba-bf6b-9e2df67d7209",
   "metadata": {},
   "outputs": [
    {
     "name": "stdout",
     "output_type": "stream",
     "text": [
      "hello world! welcome "
     ]
    }
   ],
   "source": [
    "print('hello', 'world!', end=' ')\n",
    "print('welcome', end=' ')"
   ]
  },
  {
   "cell_type": "markdown",
   "id": "bc45e5b0-826e-48d3-bb6d-cac78294df95",
   "metadata": {},
   "source": [
    "### type"
   ]
  },
  {
   "cell_type": "code",
   "execution_count": 13,
   "id": "fecb9b69-a7c7-4bf2-8b33-50ef29c2b6bb",
   "metadata": {},
   "outputs": [
    {
     "name": "stdout",
     "output_type": "stream",
     "text": [
      "<class 'dict'>\n"
     ]
    }
   ],
   "source": [
    "print(type({ 'name': 'Henry', 'age': '39' }))"
   ]
  },
  {
   "cell_type": "code",
   "execution_count": 12,
   "id": "d3ae618a-91c5-41ea-b2e0-53c65ae44e20",
   "metadata": {},
   "outputs": [
    {
     "name": "stdout",
     "output_type": "stream",
     "text": [
      "<class 'list'>\n",
      "<class 'list'>\n"
     ]
    }
   ],
   "source": [
    "print(type([1, 2, 3, 4]))\n",
    "lst = [1, 2, 3, 4]\n",
    "print(type(lst))"
   ]
  },
  {
   "cell_type": "markdown",
   "id": "9299ac7e-de89-4a15-95bd-16ef52db0a44",
   "metadata": {},
   "source": [
    "### input\n",
    "returns string"
   ]
  },
  {
   "cell_type": "code",
   "execution_count": 28,
   "id": "fca32140-6c9e-4cbf-bd74-a257396dcbf8",
   "metadata": {},
   "outputs": [
    {
     "name": "stdin",
     "output_type": "stream",
     "text": [
      "enter a num: 12\n"
     ]
    }
   ],
   "source": [
    "num = input(\"enter a num:\")"
   ]
  },
  {
   "cell_type": "code",
   "execution_count": 29,
   "id": "f4497822-9207-498e-aa88-0f4626cfc12a",
   "metadata": {},
   "outputs": [
    {
     "data": {
      "text/plain": [
       "'12'"
      ]
     },
     "execution_count": 29,
     "metadata": {},
     "output_type": "execute_result"
    }
   ],
   "source": [
    "num"
   ]
  },
  {
   "cell_type": "code",
   "execution_count": 30,
   "id": "5d2b6d52-5bb1-4f3f-a85c-93bb0536445a",
   "metadata": {},
   "outputs": [
    {
     "data": {
      "text/plain": [
       "12"
      ]
     },
     "execution_count": 30,
     "metadata": {},
     "output_type": "execute_result"
    }
   ],
   "source": [
    "int(num)"
   ]
  },
  {
   "cell_type": "markdown",
   "id": "c2105f5a-4234-4c89-81da-24b92d7e8528",
   "metadata": {},
   "source": [
    "### len()"
   ]
  },
  {
   "cell_type": "code",
   "execution_count": 32,
   "id": "c0a1694e-2e87-4e5e-acdc-0bc36613d5aa",
   "metadata": {},
   "outputs": [
    {
     "name": "stdout",
     "output_type": "stream",
     "text": [
      "13\n"
     ]
    }
   ],
   "source": [
    "string = \"hello, world!\"\n",
    "print(len(string))"
   ]
  },
  {
   "cell_type": "code",
   "execution_count": 34,
   "id": "4a4ddf47-42e8-4e02-bdbd-3d81c396f99e",
   "metadata": {},
   "outputs": [
    {
     "name": "stdout",
     "output_type": "stream",
     "text": [
      "4\n"
     ]
    }
   ],
   "source": [
    "lst = [1, 2, 3, 4] #list, tuple, set, dict, string\n",
    "print(len(lst))"
   ]
  },
  {
   "cell_type": "code",
   "execution_count": null,
   "id": "7902bc32-4054-4d76-9a41-38b8d4f888c1",
   "metadata": {},
   "outputs": [],
   "source": []
  },
  {
   "cell_type": "markdown",
   "id": "4f476de0-f430-496b-a180-72b0c29d000a",
   "metadata": {},
   "source": [
    "### Open"
   ]
  },
  {
   "cell_type": "code",
   "execution_count": 39,
   "id": "2c231cd1-71c5-4cf6-a152-709a83e9bdeb",
   "metadata": {},
   "outputs": [
    {
     "name": "stdout",
     "output_type": "stream",
     "text": [
      "\n"
     ]
    }
   ],
   "source": [
    "file = open(\"message.txt\", \"w+\")\n",
    "file.write(\"This is a test for writing content into a file!\")\n",
    "contents = file.read()\n",
    "print(contents)\n",
    "file.close()"
   ]
  },
  {
   "cell_type": "code",
   "execution_count": 40,
   "id": "c6427dcc-0f0f-49dc-9686-db905ee7cac7",
   "metadata": {},
   "outputs": [
    {
     "name": "stdout",
     "output_type": "stream",
     "text": [
      "This is a test for writing content into a file!\n"
     ]
    }
   ],
   "source": [
    "file = open(\"message.txt\", \"r\")\n",
    "contents = file.read()\n",
    "print(contents)\n",
    "file.close()"
   ]
  },
  {
   "cell_type": "markdown",
   "id": "c850acf5-90a6-4e25-91ab-a83c5cbbfca2",
   "metadata": {},
   "source": [
    "### dir()\n",
    "list out all the attributes and methods of the function"
   ]
  },
  {
   "cell_type": "code",
   "execution_count": 42,
   "id": "7bdc701e-66fb-42f3-90ab-79eca3743334",
   "metadata": {},
   "outputs": [
    {
     "name": "stdout",
     "output_type": "stream",
     "text": [
      "['__add__', '__class__', '__contains__', '__delattr__', '__dir__', '__doc__', '__eq__', '__format__', '__ge__', '__getattribute__', '__getitem__', '__getnewargs__', '__getstate__', '__gt__', '__hash__', '__init__', '__init_subclass__', '__iter__', '__le__', '__len__', '__lt__', '__mod__', '__mul__', '__ne__', '__new__', '__reduce__', '__reduce_ex__', '__repr__', '__rmod__', '__rmul__', '__setattr__', '__sizeof__', '__str__', '__subclasshook__', 'capitalize', 'casefold', 'center', 'count', 'encode', 'endswith', 'expandtabs', 'find', 'format', 'format_map', 'index', 'isalnum', 'isalpha', 'isascii', 'isdecimal', 'isdigit', 'isidentifier', 'islower', 'isnumeric', 'isprintable', 'isspace', 'istitle', 'isupper', 'join', 'ljust', 'lower', 'lstrip', 'maketrans', 'partition', 'removeprefix', 'removesuffix', 'replace', 'rfind', 'rindex', 'rjust', 'rpartition', 'rsplit', 'rstrip', 'split', 'splitlines', 'startswith', 'strip', 'swapcase', 'title', 'translate', 'upper', 'zfill']\n"
     ]
    }
   ],
   "source": [
    "x = \"hello\"\n",
    "print(dir(x))"
   ]
  },
  {
   "cell_type": "markdown",
   "id": "b665add8-c031-4fb4-848c-7a8c12f4d1b3",
   "metadata": {},
   "source": [
    "### enumerate()\n",
    "used in iterables"
   ]
  },
  {
   "cell_type": "code",
   "execution_count": 43,
   "id": "85caa058-6860-41eb-a9b1-0512949e8e99",
   "metadata": {},
   "outputs": [
    {
     "name": "stdout",
     "output_type": "stream",
     "text": [
      "(0, 'alice')\n",
      "(1, 'bob')\n",
      "(2, 'charlie')\n"
     ]
    }
   ],
   "source": [
    "names = [ 'alice', 'bob', 'charlie' ]\n",
    "for name in enumerate(names):\n",
    "    print(name)"
   ]
  },
  {
   "cell_type": "code",
   "execution_count": 47,
   "id": "9151300d-b82d-4d2e-aa69-430b5aa5c542",
   "metadata": {},
   "outputs": [
    {
     "name": "stdout",
     "output_type": "stream",
     "text": [
      "2:alice\n",
      "3:bob\n",
      "4:charlie\n"
     ]
    }
   ],
   "source": [
    "for i, name in enumerate(names, start = 2):\n",
    "    print(i, name, sep=':')"
   ]
  },
  {
   "cell_type": "code",
   "execution_count": 44,
   "id": "4d8829f7-592c-41c4-bd22-46649c0ad4ae",
   "metadata": {},
   "outputs": [
    {
     "data": {
      "text/plain": [
       "[(0, 'alice'), (1, 'bob'), (2, 'charlie')]"
      ]
     },
     "execution_count": 44,
     "metadata": {},
     "output_type": "execute_result"
    }
   ],
   "source": [
    "list(enumerate(names))"
   ]
  },
  {
   "cell_type": "markdown",
   "id": "6bad2f1b-1eb8-4e8d-9a65-831779a68e6f",
   "metadata": {},
   "source": [
    "### Zip()"
   ]
  },
  {
   "cell_type": "code",
   "execution_count": 55,
   "id": "b273e81e-6cf1-497a-9564-a1ba984ee993",
   "metadata": {},
   "outputs": [],
   "source": [
    "list1 = [1, 2, 3, 4]\n",
    "list2 = ['a', 'b', 'c']\n",
    "list3 = ['x', 'y', 'z']"
   ]
  },
  {
   "cell_type": "code",
   "execution_count": 56,
   "id": "498996f4-6ad1-456a-9f28-1c581ce9c1af",
   "metadata": {},
   "outputs": [
    {
     "data": {
      "text/plain": [
       "[(1, 'a'), (2, 'b'), (3, 'c')]"
      ]
     },
     "execution_count": 56,
     "metadata": {},
     "output_type": "execute_result"
    }
   ],
   "source": [
    "list(zip(list1, list2))"
   ]
  },
  {
   "cell_type": "code",
   "execution_count": 57,
   "id": "6f7dbeb5-098c-4f62-9821-6f189a4a17a3",
   "metadata": {},
   "outputs": [
    {
     "data": {
      "text/plain": [
       "[(1, 'a', 'x'), (2, 'b', 'y'), (3, 'c', 'z')]"
      ]
     },
     "execution_count": 57,
     "metadata": {},
     "output_type": "execute_result"
    }
   ],
   "source": [
    "list(zip(list1, list2, list3))"
   ]
  },
  {
   "cell_type": "code",
   "execution_count": 53,
   "id": "9e140c5b-0fb6-4e6e-b4f8-c70b81e68710",
   "metadata": {},
   "outputs": [
    {
     "name": "stdout",
     "output_type": "stream",
     "text": [
      "(1, 'a')\n",
      "(2, 'b')\n",
      "(3, 'c')\n"
     ]
    }
   ],
   "source": [
    "for a in zip(list1, list2):\n",
    "    print(a)"
   ]
  },
  {
   "cell_type": "code",
   "execution_count": 58,
   "id": "35401d4a-fa1f-4801-8289-09c206b09ac9",
   "metadata": {},
   "outputs": [
    {
     "name": "stdout",
     "output_type": "stream",
     "text": [
      "1:a\n",
      "2:b\n",
      "3:c\n"
     ]
    }
   ],
   "source": [
    "for l1, l2 in zip(list1, list2):\n",
    "    print(l1, end=\":\")\n",
    "    print(l2)"
   ]
  },
  {
   "cell_type": "markdown",
   "id": "d2984568-41b8-4c93-9282-4b30cce974d2",
   "metadata": {},
   "source": [
    "### Map \n",
    "map(function, iterable)"
   ]
  },
  {
   "cell_type": "code",
   "execution_count": 2,
   "id": "1c99940f-4b88-48c0-ba8c-ae676a9f4ceb",
   "metadata": {},
   "outputs": [],
   "source": [
    "my_list = [ 1, 2, 3, 4]\n",
    "\n",
    "map_obj = map(lambda x: x**2, my_list)"
   ]
  },
  {
   "cell_type": "code",
   "execution_count": 3,
   "id": "b8e4e352-114a-4254-9caa-c48cf717a589",
   "metadata": {},
   "outputs": [
    {
     "data": {
      "text/plain": [
       "[1, 4, 9, 16]"
      ]
     },
     "execution_count": 3,
     "metadata": {},
     "output_type": "execute_result"
    }
   ],
   "source": [
    "[a for a in map_obj]"
   ]
  },
  {
   "cell_type": "code",
   "execution_count": 4,
   "id": "fe1f7c0b-41cd-4547-a029-59031f277b14",
   "metadata": {},
   "outputs": [
    {
     "name": "stdout",
     "output_type": "stream",
     "text": [
      "[1, 2, 3, 4, 5]\n"
     ]
    }
   ],
   "source": [
    "string_list = [\"1\", \"2\", \"3\", \"4\", \"5\"]\n",
    "int_list = list(map(int, string_list))\n",
    "print(int_list)"
   ]
  },
  {
   "cell_type": "markdown",
   "id": "d468005c-5d3d-4ca3-8b46-849118664723",
   "metadata": {},
   "source": [
    "### Reduce\n",
    "reduce(function, iterable, initializer)"
   ]
  },
  {
   "cell_type": "code",
   "execution_count": 17,
   "id": "a47a569a-6c07-4ad8-89e3-7fb5f94f0dd2",
   "metadata": {},
   "outputs": [
    {
     "name": "stdout",
     "output_type": "stream",
     "text": [
      "120\n"
     ]
    }
   ],
   "source": [
    "from functools import reduce\n",
    "\n",
    "my_list = [1, 2, 3, 4, 5]\n",
    "\n",
    "product = reduce(lambda x, y: x*y, my_list)\n",
    "print(product)"
   ]
  },
  {
   "cell_type": "code",
   "execution_count": 18,
   "id": "93b15ac6-1a2a-42cc-8c56-9dc2dcf0fc3c",
   "metadata": {},
   "outputs": [
    {
     "name": "stdout",
     "output_type": "stream",
     "text": [
      "11200\n"
     ]
    }
   ],
   "source": [
    "from functools import reduce\n",
    "\n",
    "my_list = [1,5,8,4,7]\n",
    "initial_value = 10\n",
    "\n",
    "product = reduce(lambda x, y: x * y, my_list, initial_value)\n",
    "print(product)"
   ]
  },
  {
   "cell_type": "markdown",
   "id": "5ffdd66f-32d3-4f48-a32a-462fd4e964d6",
   "metadata": {},
   "source": [
    "### filter\n",
    "filter(function, iterable)"
   ]
  },
  {
   "cell_type": "code",
   "execution_count": 19,
   "id": "2030019f-1abe-4839-a6be-17c52cecdf6a",
   "metadata": {},
   "outputs": [
    {
     "name": "stdout",
     "output_type": "stream",
     "text": [
      "[2, 4, 6, 8]\n"
     ]
    }
   ],
   "source": [
    "my_list = [1, 2, 3, 4, 5, 6, 7, 8, 9]\n",
    "\n",
    "filtered_list = list(filter(lambda x: x % 2 == 0, my_list))\n",
    "print(filtered_list)"
   ]
  },
  {
   "cell_type": "code",
   "execution_count": 20,
   "id": "759f8410-be6c-4c34-bc84-f5c713795bb1",
   "metadata": {},
   "outputs": [
    {
     "name": "stdout",
     "output_type": "stream",
     "text": [
      "['spam', 'eggs', 'spam']\n"
     ]
    }
   ],
   "source": [
    "my_list = ['', 'spam', '', 'eggs', '', 'spam']\n",
    "\n",
    "filtered_list = list(filter(lambda x: x != '', my_list))\n",
    "print(filtered_list)"
   ]
  },
  {
   "cell_type": "markdown",
   "id": "80ee24b3-51b2-4e8b-a05a-4275ccbb6e90",
   "metadata": {},
   "source": [
    "### User Defined Function"
   ]
  },
  {
   "cell_type": "code",
   "execution_count": 61,
   "id": "885ce1dc-e933-42ce-945f-b25ab98d8d71",
   "metadata": {},
   "outputs": [],
   "source": [
    "\n",
    "def add_nmbers(a, b):\n",
    "    _sum = a + b\n",
    "    return _sum"
   ]
  },
  {
   "cell_type": "code",
   "execution_count": 62,
   "id": "46b67fd4-2def-4066-9c55-324e22492d98",
   "metadata": {},
   "outputs": [
    {
     "name": "stdout",
     "output_type": "stream",
     "text": [
      "5\n"
     ]
    }
   ],
   "source": [
    "result = add_nmbers(2, 3)\n",
    "print(result)"
   ]
  },
  {
   "cell_type": "code",
   "execution_count": 131,
   "id": "4a783b12-c45f-489d-baef-c55108e5972b",
   "metadata": {},
   "outputs": [
    {
     "name": "stdout",
     "output_type": "stream",
     "text": [
      "Positional arguments:\n",
      "1\n",
      "hello\n",
      "ram\n",
      "--------------------\n",
      "keyword arguments:\n",
      "{'age': 22, 'city': 'Newyrok'}\n",
      "age = 22\n",
      "city = Newyrok\n",
      "None\n"
     ]
    }
   ],
   "source": [
    "def my_printer(*args, **kwargs):\n",
    "    print(\"Positional arguments:\")\n",
    "    for arg in args:\n",
    "        print(arg)\n",
    "\n",
    "    print(\"-\"*20)\n",
    "\n",
    "    print('keyword arguments:')\n",
    "    print(kwargs)\n",
    "    for key, value in kwargs.items():\n",
    "        print(key, '=', value)\n",
    "\n",
    "result = my_printer(1, 'hello', 'ram', age=22, city='Newyrok')\n",
    "print(result)"
   ]
  },
  {
   "cell_type": "code",
   "execution_count": 79,
   "id": "9fc83fa6-539c-4ca5-b388-bb25be833cfa",
   "metadata": {},
   "outputs": [],
   "source": [
    "def mean_error(*error):\n",
    "    total = sum(error)\n",
    "    mean = total/len(error)\n",
    "    return mean\n",
    "\n"
   ]
  },
  {
   "cell_type": "code",
   "execution_count": 91,
   "id": "1511d532-89e5-46ad-9777-cc94134c3487",
   "metadata": {},
   "outputs": [
    {
     "name": "stdout",
     "output_type": "stream",
     "text": [
      "4.5275\n"
     ]
    }
   ],
   "source": [
    "print(mean_error(*[1, 2, 3, 4, 5, 6, 7, 8.22]))"
   ]
  },
  {
   "cell_type": "code",
   "execution_count": 101,
   "id": "b7fced99-55f9-4285-916f-dd022f9479c9",
   "metadata": {},
   "outputs": [],
   "source": [
    "def create_model(name, **kwargs):\n",
    "    moedl_name = name\n",
    "    model_size = kwargs['size']\n",
    "    model_type = kwargs.get('type','M.T')\n",
    "\n",
    "    return {name: f\"{model_type}_{model_size}\"}"
   ]
  },
  {
   "cell_type": "code",
   "execution_count": 102,
   "id": "c6182213-4efb-44e5-a7c9-1da275106833",
   "metadata": {},
   "outputs": [
    {
     "data": {
      "text/plain": [
       "{'X6Boost': 'M.T_4000'}"
      ]
     },
     "execution_count": 102,
     "metadata": {},
     "output_type": "execute_result"
    }
   ],
   "source": [
    "create_model(\"X6Boost\", size = 4000, shape = (22, 33, 1))\n",
    "            "
   ]
  },
  {
   "cell_type": "code",
   "execution_count": 103,
   "id": "0ffb62cb-daa0-4607-a7dd-bd1d91275b3d",
   "metadata": {},
   "outputs": [
    {
     "data": {
      "text/plain": [
       "{'X6Boost': 'HMac_4000'}"
      ]
     },
     "execution_count": 103,
     "metadata": {},
     "output_type": "execute_result"
    }
   ],
   "source": [
    "create_model(\"X6Boost\", size = 4000, type = 'HMac', shape = (22, 33, 1))"
   ]
  },
  {
   "cell_type": "code",
   "execution_count": 104,
   "id": "a3043d62-4e31-45f3-9b03-61a95ea7d7a8",
   "metadata": {},
   "outputs": [],
   "source": [
    "# Documentation in function"
   ]
  },
  {
   "cell_type": "code",
   "execution_count": 105,
   "id": "29d1ec5f-4700-4796-9caf-dcd5dbcefadc",
   "metadata": {},
   "outputs": [],
   "source": [
    "# docstring in numpy"
   ]
  },
  {
   "cell_type": "code",
   "execution_count": 120,
   "id": "d06d33a7-d787-4789-855b-fcc7e2cd7323",
   "metadata": {},
   "outputs": [],
   "source": [
    "def square(n):\n",
    "    '''\n",
    "    Find a square of any given number\n",
    "\n",
    "    Paramater:\n",
    "    ----------\n",
    "    n: int or float\n",
    "    User input number\n",
    "\n",
    "    Return:\n",
    "    -------\n",
    "    return the square of input number\n",
    "    '''\n",
    "    return n**2"
   ]
  },
  {
   "cell_type": "code",
   "execution_count": 121,
   "id": "144aa138-a213-4d45-8651-8187809dea29",
   "metadata": {},
   "outputs": [
    {
     "data": {
      "text/plain": [
       "4"
      ]
     },
     "execution_count": 121,
     "metadata": {},
     "output_type": "execute_result"
    }
   ],
   "source": [
    "square(2)"
   ]
  },
  {
   "cell_type": "code",
   "execution_count": 122,
   "id": "0be9d7d8-8a67-4254-a45b-014aa87b5dad",
   "metadata": {},
   "outputs": [
    {
     "name": "stdout",
     "output_type": "stream",
     "text": [
      "\n",
      "    Find a square of any given number\n",
      "\n",
      "    Paramater:\n",
      "    ----------\n",
      "    n: int or float\n",
      "    User input number\n",
      "\n",
      "    Return:\n",
      "    -------\n",
      "    return the square of input number\n",
      "    \n"
     ]
    }
   ],
   "source": [
    "print(square.__doc__)"
   ]
  },
  {
   "cell_type": "code",
   "execution_count": 135,
   "id": "9c9ad583-b64c-4b3c-b819-f961ae55c8a1",
   "metadata": {},
   "outputs": [
    {
     "name": "stdout",
     "output_type": "stream",
     "text": [
      "27\n",
      "9\n"
     ]
    }
   ],
   "source": [
    "def power(base: int, exp=2):\n",
    "    '''\n",
    "    The function calculates the base raised to power exp\n",
    "\n",
    "    Parameters:\n",
    "    base: int\n",
    "    exp: int, default = 2\n",
    "\n",
    "    Return:\n",
    "    returns base raised to power exp\n",
    "    '''\n",
    "    return base**exp\n",
    "\n",
    "print(power(3, 3))\n",
    "print(power(3))"
   ]
  },
  {
   "cell_type": "markdown",
   "id": "a8ccb58d-b859-4324-9369-2173bb832337",
   "metadata": {},
   "source": [
    "### recurssive function"
   ]
  },
  {
   "cell_type": "code",
   "execution_count": 129,
   "id": "b9c002c8-fae7-4545-bf2f-bc1cf6ded5bf",
   "metadata": {},
   "outputs": [
    {
     "name": "stdout",
     "output_type": "stream",
     "text": [
      "55\n"
     ]
    }
   ],
   "source": [
    "def fibonacci(n):\n",
    "    # Base cases\n",
    "    if n == 0:\n",
    "        return 0\n",
    "    elif n == 1:\n",
    "        return 1\n",
    "    else:\n",
    "        # Recursive case\n",
    "        return fibonacci(n-1) + fibonacci(n-2)\n",
    "\n",
    "# Call the function with n = 5\n",
    "result = fibonacci(10)\n",
    "\n",
    "# Print the result\n",
    "print(result)"
   ]
  },
  {
   "cell_type": "code",
   "execution_count": 139,
   "id": "6962655b-78cb-49d6-ab63-70bb96926fe8",
   "metadata": {},
   "outputs": [
    {
     "name": "stdout",
     "output_type": "stream",
     "text": [
      "2\n"
     ]
    }
   ],
   "source": [
    "def fibonacci(n):\n",
    "    if n == 0:\n",
    "        return 0\n",
    "    elif n == 1:\n",
    "        return 1\n",
    "    else:\n",
    "        return fibonacci(n-1) + fibonacci(n-2)\n",
    "\n",
    "\n",
    "print(fibonacci(3))"
   ]
  },
  {
   "cell_type": "code",
   "execution_count": 140,
   "id": "331c0371-f10d-4ee5-b2f4-d87eb87337f0",
   "metadata": {},
   "outputs": [],
   "source": [
    "# lamda expression"
   ]
  },
  {
   "cell_type": "code",
   "execution_count": 142,
   "id": "294e3dc1-8dce-47f3-9702-08a0c79fc627",
   "metadata": {},
   "outputs": [
    {
     "name": "stdout",
     "output_type": "stream",
     "text": [
      "6\n"
     ]
    }
   ],
   "source": [
    "add = lambda a, b: a + b\n",
    "\n",
    "print(add(2, 4))"
   ]
  },
  {
   "cell_type": "code",
   "execution_count": 143,
   "id": "9c2c2cbf-fff8-46e6-889f-e8b25b9988b7",
   "metadata": {},
   "outputs": [
    {
     "name": "stdout",
     "output_type": "stream",
     "text": [
      "[2, 4, 6, 8, 10]\n"
     ]
    }
   ],
   "source": [
    "numbers = [1, 2, 3, 4, 5]\n",
    "double = list(map( lambda x: x*2 , numbers))\n",
    "\n",
    "print(double)"
   ]
  },
  {
   "cell_type": "code",
   "execution_count": 146,
   "id": "bed95110-6d40-4b1c-b179-0f417cc94ad0",
   "metadata": {},
   "outputs": [
    {
     "name": "stdout",
     "output_type": "stream",
     "text": [
      "572\n"
     ]
    }
   ],
   "source": [
    "area = lambda l, b, h: 2*h*(l+b)\n",
    "\n",
    "print(area(10,12,13))"
   ]
  },
  {
   "cell_type": "code",
   "execution_count": null,
   "id": "d23352a3-b2a8-4976-bbc1-46f3efda940c",
   "metadata": {},
   "outputs": [],
   "source": []
  }
 ],
 "metadata": {
  "kernelspec": {
   "display_name": "Python 3 (ipykernel)",
   "language": "python",
   "name": "python3"
  },
  "language_info": {
   "codemirror_mode": {
    "name": "ipython",
    "version": 3
   },
   "file_extension": ".py",
   "mimetype": "text/x-python",
   "name": "python",
   "nbconvert_exporter": "python",
   "pygments_lexer": "ipython3",
   "version": "3.12.5"
  }
 },
 "nbformat": 4,
 "nbformat_minor": 5
}
