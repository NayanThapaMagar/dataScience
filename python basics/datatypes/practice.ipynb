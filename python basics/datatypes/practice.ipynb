{
 "cells": [
  {
   "cell_type": "markdown",
   "id": "796ab67f-b558-4f17-b487-71e89d744c0a",
   "metadata": {},
   "source": [
    "# int, float, str, type and type conversion, complex numbers, arithmetic operations, \n"
   ]
  },
  {
   "cell_type": "code",
   "execution_count": 2,
   "id": "def5fd13-c738-4524-aa55-10a117ba3d9c",
   "metadata": {},
   "outputs": [
    {
     "name": "stdout",
     "output_type": "stream",
     "text": [
      "<class 'int'>\n",
      "<class 'float'>\n",
      "<class 'str'>\n"
     ]
    }
   ],
   "source": [
    "x = 2\n",
    "y = 3.125\n",
    "z = \"Hari\"\n",
    "print(type(x))\n",
    "print(type(y))\n",
    "print(type(z))"
   ]
  },
  {
   "cell_type": "code",
   "execution_count": 4,
   "id": "197a1c5f-8430-4d92-b958-630d00445345",
   "metadata": {},
   "outputs": [
    {
     "name": "stdout",
     "output_type": "stream",
     "text": [
      "2.0\n",
      "<class 'float'>\n",
      "3\n",
      "<class 'int'>\n"
     ]
    }
   ],
   "source": [
    "a = float(x)\n",
    "print(a)\n",
    "print(type(a))\n",
    "b = int(y)\n",
    "print(b)\n",
    "print(type(b))"
   ]
  },
  {
   "cell_type": "code",
   "execution_count": 5,
   "id": "8120f556-f3ac-4b2e-8132-14bd917383cb",
   "metadata": {},
   "outputs": [
    {
     "name": "stdout",
     "output_type": "stream",
     "text": [
      "(2+1j)\n"
     ]
    }
   ],
   "source": [
    "c = complex(4, -2)\n",
    "d = -2 + 3j\n",
    "e = c + d\n",
    "print(e)"
   ]
  },
  {
   "cell_type": "code",
   "execution_count": 6,
   "id": "a6f338f8-39e3-46db-b09e-999834254a27",
   "metadata": {},
   "outputs": [
    {
     "name": "stdout",
     "output_type": "stream",
     "text": [
      "<class 'complex'>\n"
     ]
    }
   ],
   "source": [
    "print(type(e))"
   ]
  },
  {
   "cell_type": "markdown",
   "id": "0e59b106-0bbc-4bc6-b624-7849516124d8",
   "metadata": {},
   "source": [
    "# floor division, modular, power, comparison\n",
    "# math functions, power, combination, factorial, round, square root, absolute value\n"
   ]
  },
  {
   "cell_type": "code",
   "execution_count": 8,
   "id": "f1368962-0db2-4670-a7d0-14b639306190",
   "metadata": {},
   "outputs": [
    {
     "name": "stdout",
     "output_type": "stream",
     "text": [
      "8\n",
      "4 0\n"
     ]
    }
   ],
   "source": [
    "a = 2**3\n",
    "print(a)\n",
    "b = a // 2\n",
    "c = a % 2\n",
    "print(b, c)"
   ]
  },
  {
   "cell_type": "code",
   "execution_count": 10,
   "id": "acaaae29-5fa3-4415-b43a-badcaa174081",
   "metadata": {},
   "outputs": [
    {
     "name": "stdout",
     "output_type": "stream",
     "text": [
      "24\n"
     ]
    }
   ],
   "source": [
    "import math\n",
    "from math import factorial\n",
    "print(factorial(4))"
   ]
  },
  {
   "cell_type": "code",
   "execution_count": 18,
   "id": "8a8cc275-83c4-48c2-bbd2-0ee7be32cf1f",
   "metadata": {},
   "outputs": [
    {
     "name": "stdout",
     "output_type": "stream",
     "text": [
      "3.141592653589793\n",
      "9\n",
      "10\n",
      "3.142\n",
      "10.0\n",
      "4.0\n",
      "3\n"
     ]
    }
   ],
   "source": [
    "print(math.pi)\n",
    "print(pow(3,2))\n",
    "print(math.comb(5,2))\n",
    "print(round(math.pi, 3))\n",
    "print(round(5+math.pi, -1))\n",
    "print(math.sqrt(16))\n",
    "print(abs(-3))"
   ]
  },
  {
   "cell_type": "code",
   "execution_count": 19,
   "id": "5ddc2f83-f5d8-47a7-8da0-dd29de008810",
   "metadata": {},
   "outputs": [],
   "source": [
    "# log, sin, lcm, maximum, pi, e,"
   ]
  },
  {
   "cell_type": "code",
   "execution_count": 23,
   "id": "1e6627f1-8b51-400b-8731-7d4264453cc6",
   "metadata": {},
   "outputs": [
    {
     "name": "stdout",
     "output_type": "stream",
     "text": [
      "4.605170185988092\n"
     ]
    }
   ],
   "source": [
    "print(math.log(100))"
   ]
  },
  {
   "cell_type": "code",
   "execution_count": 28,
   "id": "2ac9e0dc-7dcc-4fad-a1bb-2cc0213eee24",
   "metadata": {},
   "outputs": [
    {
     "name": "stdout",
     "output_type": "stream",
     "text": [
      "210\n",
      "95\n",
      "0.8509035245341184\n"
     ]
    }
   ],
   "source": [
    "print(math.lcm(2, 5, 6, 7))\n",
    "print(max(2, 5, 6, 7, 95))\n",
    "print(math.sin(45))"
   ]
  },
  {
   "cell_type": "markdown",
   "id": "ceae571a-a250-4a46-b374-3d9162d3c136",
   "metadata": {},
   "source": [
    "# str, capitalize, lower, upper, srtip, replace split endswith\n"
   ]
  },
  {
   "cell_type": "code",
   "execution_count": 35,
   "id": "686d49d6-d105-4dcd-831c-210c0909cc78",
   "metadata": {},
   "outputs": [
    {
     "name": "stdout",
     "output_type": "stream",
     "text": [
      "Hello, world\n",
      "hello, world!\n",
      "HELLO, WORLD\n",
      "hello hello\n",
      "   mello mello\n",
      "['Hello,', 'World!']\n",
      "True\n"
     ]
    }
   ],
   "source": [
    "x = \"Hello, World!\"\n",
    "y = \"hello, world\"\n",
    "\n",
    "print(y.capitalize())\n",
    "print(x.lower())\n",
    "print(y.upper())\n",
    "\n",
    "z = \"   hello hello\"\n",
    "\n",
    "print(z.strip())\n",
    "print(z.replace(\"h\", \"m\"))\n",
    "print(x.split(\" \"))\n",
    "print(x.endswith(\"!\"))"
   ]
  },
  {
   "cell_type": "markdown",
   "id": "4e5dd139-2932-4577-b328-d91f17a40011",
   "metadata": {},
   "source": [
    "# slicing, formatting, concatenation\n"
   ]
  },
  {
   "cell_type": "code",
   "execution_count": 43,
   "id": "00ac1c29-112e-4a3e-a876-e37673e17e51",
   "metadata": {},
   "outputs": [
    {
     "name": "stdout",
     "output_type": "stream",
     "text": [
      "?uoy era woH ,iH\n",
      ",Hw\n",
      "My name is Mechile and my age is 30\n",
      "My name is Mechile and my age is 30\n",
      "My name is Mechile and my age is 30\n",
      "My name is 30 and my age is Mechile\n"
     ]
    }
   ],
   "source": [
    "x = \"Hi, How are you?\"\n",
    "print(x[::-1])\n",
    "print(x[2:8:2])\n",
    "name = \"Mechile\"\n",
    "age = 30\n",
    "print(f\"My name is {name} and my age is {age}\")\n",
    "print(\"My name is {} and my age is {}\".format(name, age))\n",
    "print(\"My name is {0} and my age is {1}\".format(name, age))\n",
    "print(\"My name is {1} and my age is {0}\".format(name, age))"
   ]
  },
  {
   "cell_type": "code",
   "execution_count": 40,
   "id": "91821cf7-9658-4953-985d-a2fb5869abcb",
   "metadata": {},
   "outputs": [
    {
     "name": "stdout",
     "output_type": "stream",
     "text": [
      "Hi how are you?\n",
      "Hi how are you?\n",
      "HiHiHiHi\n"
     ]
    }
   ],
   "source": [
    "x = \"Hi\"\n",
    "y = \"how are you?\"\n",
    "z = f\"{x} {y}\"\n",
    "print(z)\n",
    "a = x + \" \" + y\n",
    "print(a)\n",
    "print(x*4)"
   ]
  },
  {
   "cell_type": "markdown",
   "id": "811c5f38-3693-4647-a8cd-d90f2353676e",
   "metadata": {},
   "source": [
    "# Sequence type\n",
    "## list"
   ]
  },
  {
   "cell_type": "code",
   "execution_count": 45,
   "id": "88a267a0-b5e6-4575-b60b-070931ec0b4e",
   "metadata": {},
   "outputs": [],
   "source": [
    "# accessing, slicing, range, modifying(append, insert, remove, pop, clear)\n",
    "# list methods( sort, reverse, index, count)"
   ]
  },
  {
   "cell_type": "code",
   "execution_count": 51,
   "id": "8527a219-977e-4b18-b6ba-bf7984c49215",
   "metadata": {},
   "outputs": [
    {
     "name": "stdout",
     "output_type": "stream",
     "text": [
      "[8, 7, 6, 5, 4, 3, 2, 1]\n",
      "[1, 2, 3]\n",
      "[0, 1, 2, 3, 4, 5, 6, 7, 8, 9, 10, 11, 12, 13, 14, 15, 16, 17, 18, 19, 20, 21, 22, 23, 24, 25, 26, 27, 28, 29, 30, 31, 32, 33, 34, 35, 36, 37, 38, 39, 40, 41, 42, 43, 44, 45, 46, 47, 48, 49, 50]\n",
      "[1, 2, 3, 4, 5, 6, 7, 8, 9]\n",
      "[1, 2, 3, 4, 5, 'apple', 6, 7, 8, 9]\n",
      "[1, 2, 3, 4, 5, 6, 7, 8, 9]\n",
      "3 9\n",
      "[]\n"
     ]
    }
   ],
   "source": [
    "x = [1, 2, 3, 4, 5, 6, 7, 8]\n",
    "print(x[::-1])\n",
    "print(x[0:3])\n",
    "y = list(range(0, 51))\n",
    "print(y)\n",
    "x.append(9)\n",
    "print(x)\n",
    "x.insert(5, \"apple\")\n",
    "print(x)\n",
    "x.remove(\"apple\")\n",
    "print(x)\n",
    "z = x.pop(2)\n",
    "a = x.pop()\n",
    "print(z, a)\n",
    "x.clear()\n",
    "print(x)"
   ]
  },
  {
   "cell_type": "markdown",
   "id": "892596df-d53a-48d1-91e2-aabf586516c3",
   "metadata": {},
   "source": [
    "## tuple\n",
    "immutable"
   ]
  },
  {
   "cell_type": "code",
   "execution_count": 52,
   "id": "1e9be60e-e764-429d-8a0c-996695b99814",
   "metadata": {},
   "outputs": [],
   "source": [
    "# accessing, slicing, \n",
    "# methods, count, index"
   ]
  },
  {
   "cell_type": "code",
   "execution_count": 54,
   "id": "720c420e-7314-4960-882d-e72f679e7a69",
   "metadata": {},
   "outputs": [
    {
     "name": "stdout",
     "output_type": "stream",
     "text": [
      "(1, 2, 3)\n",
      "1\n",
      "2\n"
     ]
    }
   ],
   "source": [
    "my_tuple = (1, 2, 3, 4, 5)\n",
    "print(my_tuple[0:3:1])\n",
    "print(my_tuple.count(1))\n",
    "print(my_tuple.index(3))"
   ]
  },
  {
   "cell_type": "code",
   "execution_count": null,
   "id": "10c4c7f1-f9b1-403d-ba39-e235e593d163",
   "metadata": {},
   "outputs": [],
   "source": []
  }
 ],
 "metadata": {
  "kernelspec": {
   "display_name": "Python 3 (ipykernel)",
   "language": "python",
   "name": "python3"
  },
  "language_info": {
   "codemirror_mode": {
    "name": "ipython",
    "version": 3
   },
   "file_extension": ".py",
   "mimetype": "text/x-python",
   "name": "python",
   "nbconvert_exporter": "python",
   "pygments_lexer": "ipython3",
   "version": "3.12.5"
  }
 },
 "nbformat": 4,
 "nbformat_minor": 5
}
