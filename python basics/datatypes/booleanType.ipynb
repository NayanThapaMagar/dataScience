{
 "cells": [
  {
   "cell_type": "code",
   "execution_count": 1,
   "id": "a48fcacb-22b0-4639-8efe-1a7538e3eb5a",
   "metadata": {},
   "outputs": [],
   "source": [
    "#boolean type"
   ]
  },
  {
   "cell_type": "code",
   "execution_count": 2,
   "id": "31e8c3f9-b764-40a9-bdab-981c40f03a62",
   "metadata": {},
   "outputs": [
    {
     "name": "stdout",
     "output_type": "stream",
     "text": [
      "False\n",
      "True\n",
      "False\n",
      "True\n",
      "True\n"
     ]
    }
   ],
   "source": [
    "a = 5\n",
    "b = 10\n",
    "c = a > b\n",
    "d = a < b\n",
    "print(c)\n",
    "print(d)\n",
    "print(c and d)\n",
    "print(c or d)\n",
    "print(not c)"
   ]
  },
  {
   "cell_type": "code",
   "execution_count": 6,
   "id": "4819543d-316c-492a-a84d-09066b4d741d",
   "metadata": {},
   "outputs": [
    {
     "name": "stdout",
     "output_type": "stream",
     "text": [
      "True\n",
      "False\n",
      "True\n",
      "False\n"
     ]
    }
   ],
   "source": [
    "a = 30\n",
    "b = 0\n",
    "c = \"hello\"\n",
    "d = \"\"\n",
    "print(bool(a))\n",
    "print(bool(b))\n",
    "print(bool(c))\n",
    "print(bool(d))"
   ]
  },
  {
   "cell_type": "code",
   "execution_count": 7,
   "id": "2627425a-6496-4ea2-ae8c-33977a9ee597",
   "metadata": {},
   "outputs": [
    {
     "name": "stdout",
     "output_type": "stream",
     "text": [
      "True\n",
      "False\n",
      "True\n",
      "False\n",
      "True\n",
      "False\n"
     ]
    }
   ],
   "source": [
    "lst = [1, 2, 3]\n",
    "empty_lst = []\n",
    "dct = {\"a\": 1, \"b\": 2}\n",
    "empty_dct = {}\n",
    "obj = object()\n",
    "none_obj = None\n",
    "\n",
    "print(bool(lst))       # True\n",
    "print(bool(empty_lst)) # False\n",
    "\n",
    "print(bool(dct))       # True\n",
    "print(bool(empty_dct)) # False\n",
    "\n",
    "print(bool(obj))       # True\n",
    "print(bool(none_obj))  # False"
   ]
  },
  {
   "cell_type": "code",
   "execution_count": null,
   "id": "605c5f5a-a644-4091-824d-85330e100265",
   "metadata": {},
   "outputs": [],
   "source": []
  }
 ],
 "metadata": {
  "kernelspec": {
   "display_name": "Python 3 (ipykernel)",
   "language": "python",
   "name": "python3"
  },
  "language_info": {
   "codemirror_mode": {
    "name": "ipython",
    "version": 3
   },
   "file_extension": ".py",
   "mimetype": "text/x-python",
   "name": "python",
   "nbconvert_exporter": "python",
   "pygments_lexer": "ipython3",
   "version": "3.12.5"
  }
 },
 "nbformat": 4,
 "nbformat_minor": 5
}
