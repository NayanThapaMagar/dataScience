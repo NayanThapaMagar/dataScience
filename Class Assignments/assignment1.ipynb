{
 "cells": [
  {
   "cell_type": "code",
   "execution_count": 37,
   "id": "fc9e5674-9d96-48a3-bcc2-5c93e97f617a",
   "metadata": {},
   "outputs": [
    {
     "name": "stdout",
     "output_type": "stream",
     "text": [
      "name:Rex\n",
      "age:10\n",
      "type:dog\n",
      "weight:37\n"
     ]
    }
   ],
   "source": [
    "# Question 1\n",
    "def describe_pet(**kwargs):\n",
    "    '''\n",
    "    Function to print details of a pet in the format:\n",
    "    property: vlaue\n",
    "\n",
    "    Arguments:\n",
    "    Accepts variable number of keyword arguments.\n",
    "    '''\n",
    "    for key, value in kwargs.items():\n",
    "        print(f'{key}:{value}')\n",
    "\n",
    "describe_pet(name=\"Rex\", age=10, type='dog', weight=37)"
   ]
  },
  {
   "cell_type": "code",
   "execution_count": 36,
   "id": "f9e4b9b8-45b8-48a6-ba21-dd4e7bd99643",
   "metadata": {},
   "outputs": [
    {
     "name": "stdout",
     "output_type": "stream",
     "text": [
      "1.707825127659933\n"
     ]
    }
   ],
   "source": [
    "# Question 2\n",
    "list = [ 1, 2, 3, 4, 5, 6]\n",
    "import math\n",
    "\n",
    "def standard_deviation(list):\n",
    "    '''\n",
    "    Function to calculate standard deviation.\n",
    "\n",
    "    Arguments:\n",
    "    list: list of numbers.\n",
    "\n",
    "    Return:\n",
    "    Returns standard deviation of numbers in the list.\n",
    "    '''\n",
    "    mean = sum(list)/len(list)\n",
    "    sum_of_squared_difference = sum([(num - mean)**2 for num in list])\n",
    "    return math.sqrt(sum_of_squared_difference/len(list))\n",
    "\n",
    "\n",
    "print(standard_deviation(list))"
   ]
  },
  {
   "cell_type": "code",
   "execution_count": null,
   "id": "bd4fba56-32e9-44fd-a880-ab19b541010b",
   "metadata": {},
   "outputs": [],
   "source": []
  }
 ],
 "metadata": {
  "kernelspec": {
   "display_name": "Python 3 (ipykernel)",
   "language": "python",
   "name": "python3"
  },
  "language_info": {
   "codemirror_mode": {
    "name": "ipython",
    "version": 3
   },
   "file_extension": ".py",
   "mimetype": "text/x-python",
   "name": "python",
   "nbconvert_exporter": "python",
   "pygments_lexer": "ipython3",
   "version": "3.12.5"
  }
 },
 "nbformat": 4,
 "nbformat_minor": 5
}
