{
 "cells": [
  {
   "cell_type": "code",
   "execution_count": 2,
   "id": "a858d1ec-4476-4c47-80e3-83b93f37217e",
   "metadata": {},
   "outputs": [
    {
     "name": "stdout",
     "output_type": "stream",
     "text": [
      "h\n",
      "e\n",
      "l\n",
      "l\n",
      "o\n",
      " \n",
      "w\n",
      "o\n",
      "r\n",
      "l\n",
      "d\n"
     ]
    }
   ],
   "source": [
    "x = \"hello world\"\n",
    "for char in x:\n",
    "    print(char)"
   ]
  },
  {
   "cell_type": "code",
   "execution_count": 7,
   "id": "a50e2d21-dcd4-4368-86d8-bb902c69ef76",
   "metadata": {},
   "outputs": [
    {
     "name": "stdout",
     "output_type": "stream",
     "text": [
      "will eat apple\n",
      "will not eat banana\n",
      "will not eat orange\n",
      "will not eat cherry\n",
      "will not eat pineapple\n"
     ]
    }
   ],
   "source": [
    "fruits = ['apple', 'banana', 'orange', 'cherry', 'pineapple']\n",
    "\n",
    "for fruit in fruits:\n",
    "    if fruit == 'apple':\n",
    "        print(f'will eat {fruit}')\n",
    "    else:\n",
    "        print(f'will not eat {fruit}')"
   ]
  },
  {
   "cell_type": "code",
   "execution_count": 8,
   "id": "a06a12a4-377a-4dfa-9430-e409f7b46940",
   "metadata": {},
   "outputs": [
    {
     "name": "stdout",
     "output_type": "stream",
     "text": [
      "0\n",
      "1\n",
      "2\n",
      "3\n",
      "4\n"
     ]
    }
   ],
   "source": [
    "for i in range(5):\n",
    "    print(i)"
   ]
  },
  {
   "cell_type": "code",
   "execution_count": 10,
   "id": "de4cb124-1d2b-401d-8672-0c1149e1dde2",
   "metadata": {},
   "outputs": [
    {
     "name": "stdout",
     "output_type": "stream",
     "text": [
      " red apple\n",
      " red banana\n",
      " red cherry\n",
      " red pineapple\n",
      " big apple\n",
      " big banana\n",
      " big cherry\n",
      " big pineapple\n",
      " jucy apple\n",
      " jucy banana\n",
      " jucy cherry\n",
      " jucy pineapple\n"
     ]
    }
   ],
   "source": [
    "adj = [ \"red\", \"big\", \"jucy\"]\n",
    "fruits = ['apple', 'banana', 'cherry', 'pineapple']\n",
    "\n",
    "for a in adj:\n",
    "    for fruit in fruits:\n",
    "        print(f\" {a} {fruit}\")"
   ]
  },
  {
   "cell_type": "code",
   "execution_count": 16,
   "id": "ec0f934e-0b46-415b-add4-2040befe6ee3",
   "metadata": {},
   "outputs": [
    {
     "name": "stdin",
     "output_type": "stream",
     "text": [
      "Enter your number:  3\n"
     ]
    },
    {
     "name": "stdout",
     "output_type": "stream",
     "text": [
      "sum of first 3 numbers is 6\n"
     ]
    }
   ],
   "source": [
    "num = int(input(\"Enter your number: \"))\n",
    "sum = 0\n",
    "for i in range(1, (num+1)):\n",
    "    sum += i\n",
    "print(f\"sum of first {num} numbers is {sum}\")"
   ]
  },
  {
   "cell_type": "code",
   "execution_count": 24,
   "id": "ef6589b3-94b7-47a0-95ef-ebca22a8b177",
   "metadata": {},
   "outputs": [
    {
     "name": "stdin",
     "output_type": "stream",
     "text": [
      "Enter your number:  10\n"
     ]
    },
    {
     "name": "stdout",
     "output_type": "stream",
     "text": [
      " 2 * 1 = 2\n",
      " 2 * 2 = 4\n",
      " 2 * 3 = 6\n",
      " 2 * 4 = 8\n",
      " 2 * 5 = 10\n",
      " 2 * 6 = 12\n",
      " 2 * 7 = 14\n",
      " 2 * 8 = 16\n",
      " 2 * 9 = 18\n",
      " 2 * 10 = 20\n"
     ]
    }
   ],
   "source": [
    "num = int(input(\"Enter your number: \"))\n",
    "\n",
    "for i in range(1, (num+1)):\n",
    "    print(f\" 2 * {i} = {i*2}\")\n"
   ]
  },
  {
   "cell_type": "code",
   "execution_count": 4,
   "id": "2611d7d8-15b4-4ff7-a9b8-722ea3f1eb27",
   "metadata": {},
   "outputs": [
    {
     "name": "stdout",
     "output_type": "stream",
     "text": [
      "*\n",
      "**\n",
      "***\n",
      "****\n",
      "*****\n",
      "******\n",
      "*******\n",
      "***\n",
      "****\n",
      "*****\n",
      "******\n",
      "*******\n",
      "********\n",
      "*********\n"
     ]
    }
   ],
   "source": [
    "for i in range (1,8):\n",
    "    print(\"*\"*i)\n",
    "for i in range (3,10):\n",
    "    print(\"*\"*i)"
   ]
  },
  {
   "cell_type": "code",
   "execution_count": 18,
   "id": "9c8d3bd9-f346-4340-abb1-14d6b7cff3b5",
   "metadata": {},
   "outputs": [
    {
     "name": "stdout",
     "output_type": "stream",
     "text": [
      "1\n",
      "12\n",
      "123\n",
      "1234\n",
      "12345\n",
      "123456\n",
      "1234567\n",
      "12345678\n",
      "123456789\n"
     ]
    }
   ],
   "source": [
    "res = ''\n",
    "for i in range(1,10):\n",
    "    res = res + str(i)\n",
    "    print(res)\n"
   ]
  },
  {
   "cell_type": "markdown",
   "id": "05c8e032-a7e9-4067-ab4a-1c409546fcbb",
   "metadata": {},
   "source": [
    "### While loop"
   ]
  },
  {
   "cell_type": "code",
   "execution_count": 16,
   "id": "5b9ab932-0de1-44b0-92ea-6c2bc1d7ff35",
   "metadata": {},
   "outputs": [
    {
     "name": "stdout",
     "output_type": "stream",
     "text": [
      "0\n",
      "1\n",
      "2\n",
      "3\n",
      "4\n"
     ]
    }
   ],
   "source": [
    "i = 0\n",
    "while i < 5:\n",
    "    print(i)\n",
    "    i += 1"
   ]
  },
  {
   "cell_type": "code",
   "execution_count": 1,
   "id": "2c091a09-cb74-46f8-92de-1011921deade",
   "metadata": {},
   "outputs": [
    {
     "name": "stdout",
     "output_type": "stream",
     "text": [
      "1 * 11 = 11\n",
      "2 * 11 = 22\n",
      "3 * 11 = 33\n",
      "4 * 11 = 44\n",
      "5 * 11 = 55\n",
      "6 * 11 = 66\n",
      "7 * 11 = 77\n",
      "8 * 11 = 88\n",
      "9 * 11 = 99\n",
      "10 * 11 = 110\n"
     ]
    }
   ],
   "source": [
    "i = 1\n",
    "while i < 11:\n",
    "    print(f\"{i} * 11 = {i*11}\")\n",
    "    i += 1"
   ]
  },
  {
   "cell_type": "code",
   "execution_count": 14,
   "id": "bfe17904-8329-49ef-8649-9be85f9ce621",
   "metadata": {},
   "outputs": [
    {
     "name": "stdin",
     "output_type": "stream",
     "text": [
      "Enter a number:  12\n"
     ]
    },
    {
     "name": "stdout",
     "output_type": "stream",
     "text": [
      "1 * 12 = 12\n",
      "2 * 12 = 24\n",
      "3 * 12 = 36\n",
      "4 * 12 = 48\n",
      "5 * 12 = 60\n",
      "6 * 12 = 72\n",
      "7 * 12 = 84\n",
      "8 * 12 = 96\n",
      "9 * 12 = 108\n",
      "10 * 12 = 120\n"
     ]
    }
   ],
   "source": [
    "i = 1\n",
    "num = int(input(\"Enter a number: \"))\n",
    "while i < 11:\n",
    "    print(f\"{i} * {num} = {i*num}\")\n",
    "    i += 1"
   ]
  },
  {
   "cell_type": "code",
   "execution_count": 16,
   "id": "a9df1aad-8d49-4ed8-b9dc-2cb6640ba60b",
   "metadata": {},
   "outputs": [
    {
     "name": "stdin",
     "output_type": "stream",
     "text": [
      "Enter a number:  12\n"
     ]
    },
    {
     "name": "stdout",
     "output_type": "stream",
     "text": [
      "1 * 12 = 12\n",
      "2 * 12 = 24\n",
      "3 * 12 = 36\n",
      "4 * 12 = 48\n",
      "5 * 12 = 60\n",
      "6 * 12 = 72\n",
      "7 * 12 = 84\n",
      "8 * 12 = 96\n",
      "9 * 12 = 108\n",
      "10 * 12 = 120\n"
     ]
    }
   ],
   "source": [
    "i = 1\n",
    "num = int(input(\"Enter a number: \"))\n",
    "while True:\n",
    "    print(f\"{i} * {num} = {i*num}\")\n",
    "    if (i*num) >= (10*num):\n",
    "        break\n",
    "    i += 1"
   ]
  },
  {
   "cell_type": "code",
   "execution_count": 19,
   "id": "4bec59b1-86de-4fea-8d24-f9f3efe48dda",
   "metadata": {},
   "outputs": [
    {
     "name": "stdout",
     "output_type": "stream",
     "text": [
      "0\n",
      "1\n",
      "2\n",
      "4\n",
      "5\n",
      "6\n",
      "7\n",
      "8\n"
     ]
    }
   ],
   "source": [
    "for i in range(9):\n",
    "    if i == 3:\n",
    "        continue\n",
    "    print(i)"
   ]
  },
  {
   "cell_type": "code",
   "execution_count": null,
   "id": "98ea43fa-16a8-494c-938d-e087235b253f",
   "metadata": {},
   "outputs": [],
   "source": []
  }
 ],
 "metadata": {
  "kernelspec": {
   "display_name": "Python 3 (ipykernel)",
   "language": "python",
   "name": "python3"
  },
  "language_info": {
   "codemirror_mode": {
    "name": "ipython",
    "version": 3
   },
   "file_extension": ".py",
   "mimetype": "text/x-python",
   "name": "python",
   "nbconvert_exporter": "python",
   "pygments_lexer": "ipython3",
   "version": "3.12.5"
  }
 },
 "nbformat": 4,
 "nbformat_minor": 5
}
