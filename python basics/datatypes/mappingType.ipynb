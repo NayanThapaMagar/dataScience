{
 "cells": [
  {
   "cell_type": "markdown",
   "id": "c3845755-7dca-4eb5-9e2d-ede2ed94d47c",
   "metadata": {},
   "source": [
    "### Mappin type"
   ]
  },
  {
   "cell_type": "markdown",
   "id": "ec3b6259-c8ab-4864-8095-ab9555af0fdd",
   "metadata": {},
   "source": [
    "### Creating a dictionary"
   ]
  },
  {
   "cell_type": "code",
   "execution_count": 4,
   "id": "24dba1c7-f856-45bf-a340-d663fec6099d",
   "metadata": {},
   "outputs": [],
   "source": [
    "# dict1 = {\n",
    "#     key: value,\n",
    "#     key: value,\n",
    "#     key: value,\n",
    "#     .....\n",
    "# }\n",
    "# notation"
   ]
  },
  {
   "cell_type": "code",
   "execution_count": 6,
   "id": "4e201a89-7fac-4597-beca-78919c322963",
   "metadata": {},
   "outputs": [
    {
     "name": "stdout",
     "output_type": "stream",
     "text": [
      "{'name': 'john', 'age': 30, 'city': 'new york', 'gender': 'male'}\n",
      "john\n"
     ]
    }
   ],
   "source": [
    "person = {\n",
    "    \"name\": \"john\",\n",
    "    \"age\": 30,\n",
    "    \"city\": \"new york\",\n",
    "    \"gender\": \"male\"\n",
    "}\n",
    "print(person)\n",
    "print(person[\"name\"])"
   ]
  },
  {
   "cell_type": "code",
   "execution_count": 7,
   "id": "8837f5d0-dd25-413f-bfdc-3df0d57b8dcc",
   "metadata": {},
   "outputs": [
    {
     "name": "stdout",
     "output_type": "stream",
     "text": [
      "{'name': 'John', 'age': 30, 'city': 'New York'}\n"
     ]
    }
   ],
   "source": [
    "person = {\"name\": \"John\", \"age\": 30, \"city\": \"New York\"}\n",
    "print(person)"
   ]
  },
  {
   "cell_type": "code",
   "execution_count": 8,
   "id": "75ec220a-ae1f-4353-b501-bf4a908d3779",
   "metadata": {},
   "outputs": [
    {
     "name": "stdout",
     "output_type": "stream",
     "text": [
      "John\n",
      "30\n"
     ]
    }
   ],
   "source": [
    "print(person[\"name\"])\n",
    "print(person[\"age\"])"
   ]
  },
  {
   "cell_type": "code",
   "execution_count": 12,
   "id": "b895abd7-51f9-476e-b50b-dd80cedd48a1",
   "metadata": {},
   "outputs": [
    {
     "ename": "KeyError",
     "evalue": "'gender'",
     "output_type": "error",
     "traceback": [
      "\u001b[1;31m---------------------------------------------------------------------------\u001b[0m",
      "\u001b[1;31mKeyError\u001b[0m                                  Traceback (most recent call last)",
      "Cell \u001b[1;32mIn[12], line 1\u001b[0m\n\u001b[1;32m----> 1\u001b[0m \u001b[38;5;28mprint\u001b[39m(\u001b[43mperson\u001b[49m\u001b[43m[\u001b[49m\u001b[38;5;124;43m\"\u001b[39;49m\u001b[38;5;124;43mgender\u001b[39;49m\u001b[38;5;124;43m\"\u001b[39;49m\u001b[43m]\u001b[49m) \u001b[38;5;66;03m# KeyError: 'gender'\u001b[39;00m\n",
      "\u001b[1;31mKeyError\u001b[0m: 'gender'"
     ]
    }
   ],
   "source": [
    "print(person[\"gender\"]) # KeyError: 'gender'"
   ]
  },
  {
   "cell_type": "code",
   "execution_count": 11,
   "id": "f55b2908-551b-4dfc-be20-f20fc9b5daf3",
   "metadata": {},
   "outputs": [
    {
     "name": "stdout",
     "output_type": "stream",
     "text": [
      "male\n"
     ]
    }
   ],
   "source": [
    "print(person.get(\"gender\", \"male\")) # get is used for error handeling. Here if gender is not key it returns male"
   ]
  },
  {
   "cell_type": "code",
   "execution_count": 15,
   "id": "df7e5d0a-bee0-4513-849d-5f66f2d4ebff",
   "metadata": {},
   "outputs": [
    {
     "name": "stdout",
     "output_type": "stream",
     "text": [
      "{'name': 'john', '1age': 30, 60: 'new york', 'gender': 'male'}\n",
      "30\n",
      "new york\n"
     ]
    }
   ],
   "source": [
    "# practice\n",
    "person = {\n",
    "    \"name\": \"john\",\n",
    "    \"1age\": 30,\n",
    "    60: \"new york\",\n",
    "    \"gender\": \"male\"\n",
    "}\n",
    "print(person)\n",
    "print(person[\"1age\"])\n",
    "print(person[60])"
   ]
  },
  {
   "cell_type": "code",
   "execution_count": 19,
   "id": "4fbbe899-86cd-439f-8cca-c36188263f8e",
   "metadata": {},
   "outputs": [
    {
     "name": "stdout",
     "output_type": "stream",
     "text": [
      "male\n",
      "N/A\n"
     ]
    }
   ],
   "source": [
    "print(person.get(\"gender\", \"m\"))\n",
    "print(person.get(\"height\", \"N/A\"))"
   ]
  },
  {
   "cell_type": "code",
   "execution_count": 21,
   "id": "8590d1cb-2203-42f3-8ab0-2b7fb7cdc606",
   "metadata": {},
   "outputs": [
    {
     "name": "stdout",
     "output_type": "stream",
     "text": [
      "{'name': 'John', 'age': 40, 'city': 'New York'}\n"
     ]
    }
   ],
   "source": [
    "person = { \"name\": \"John\", \"age\": 30, \"city\": \"New York\"}\n",
    "person[\"age\"] = 40\n",
    "print(person)"
   ]
  },
  {
   "cell_type": "code",
   "execution_count": 22,
   "id": "00fc5099-80b7-40e8-8d0b-e8192d729890",
   "metadata": {},
   "outputs": [
    {
     "name": "stdout",
     "output_type": "stream",
     "text": [
      "{'name': 'John', 'age': 40, 'city': 'New York', 'gender': 'male'}\n"
     ]
    }
   ],
   "source": [
    "person[\"gender\"] = \"male\"\n",
    "print(person)"
   ]
  },
  {
   "cell_type": "code",
   "execution_count": 23,
   "id": "7d675564-731c-41ab-8590-43529519edfe",
   "metadata": {},
   "outputs": [
    {
     "name": "stdout",
     "output_type": "stream",
     "text": [
      "{'name': 'John', 'age': 40, 'gender': 'male'}\n"
     ]
    }
   ],
   "source": [
    "del person[\"city\"]\n",
    "print(person)"
   ]
  },
  {
   "cell_type": "code",
   "execution_count": 35,
   "id": "f623257d-a8f8-4bd2-a1bd-03a1191edf8b",
   "metadata": {},
   "outputs": [
    {
     "name": "stdout",
     "output_type": "stream",
     "text": [
      "dict_keys(['name', 'age', 'city'])\n"
     ]
    }
   ],
   "source": [
    "person = { \"name\": \"John\", \"age\": 30, \"city\": \"New York\"}\n",
    "print(person.keys())"
   ]
  },
  {
   "cell_type": "code",
   "execution_count": 36,
   "id": "b96caa42-2ebd-42cb-96b5-9bc0ab0b47c6",
   "metadata": {},
   "outputs": [
    {
     "name": "stdout",
     "output_type": "stream",
     "text": [
      "dict_values(['John', 30, 'New York'])\n"
     ]
    }
   ],
   "source": [
    "print(person.values())"
   ]
  },
  {
   "cell_type": "code",
   "execution_count": 37,
   "id": "4327f5a5-a23d-41f4-a943-34131b95246e",
   "metadata": {},
   "outputs": [
    {
     "name": "stdout",
     "output_type": "stream",
     "text": [
      "dict_items([('name', 'John'), ('age', 30), ('city', 'New York')])\n"
     ]
    }
   ],
   "source": [
    "print(person.items())"
   ]
  },
  {
   "cell_type": "code",
   "execution_count": 38,
   "id": "9c89eaaf-6275-4fdb-9206-a62c4de25124",
   "metadata": {},
   "outputs": [
    {
     "name": "stdout",
     "output_type": "stream",
     "text": [
      "30\n",
      "{'name': 'John', 'city': 'New York'}\n"
     ]
    }
   ],
   "source": [
    "age = person.pop(\"age\")\n",
    "print(age)\n",
    "print(person)"
   ]
  },
  {
   "cell_type": "code",
   "execution_count": 40,
   "id": "3f974f44-97d0-44dd-9f4d-2efea650f886",
   "metadata": {},
   "outputs": [
    {
     "name": "stdout",
     "output_type": "stream",
     "text": [
      "NYC\n",
      "{'name': 'John'}\n"
     ]
    }
   ],
   "source": [
    "city = person.pop(\"city\", \"NYC\")\n",
    "print(city)\n",
    "print(person)"
   ]
  },
  {
   "cell_type": "code",
   "execution_count": 46,
   "id": "29cf865a-8386-4d71-97ff-42590a0daaaf",
   "metadata": {},
   "outputs": [
    {
     "name": "stdout",
     "output_type": "stream",
     "text": [
      "{'age': '30', 'city': 'New York', 'name': 'John'}\n",
      "{'age': '30', 'name': 'John', 'city': 'New York'}\n"
     ]
    }
   ],
   "source": [
    "person = { \"name\": \"John\", \"age\": \"30\", \"city\": \"New York\"}\n",
    "\n",
    "key_sorted = dict(sorted(person.items(), key=lambda item: item[0])) # Sort by Key\n",
    "print(key_sorted)\n",
    "\n",
    "value_sorted = dict(sorted(person.items(), key=lambda item: item[1])) # Sort by Value\n",
    "print(value_sorted)"
   ]
  },
  {
   "cell_type": "code",
   "execution_count": null,
   "id": "4dc62fac-6365-48d5-b195-61d8a46e982b",
   "metadata": {},
   "outputs": [],
   "source": []
  }
 ],
 "metadata": {
  "kernelspec": {
   "display_name": "Python 3 (ipykernel)",
   "language": "python",
   "name": "python3"
  },
  "language_info": {
   "codemirror_mode": {
    "name": "ipython",
    "version": 3
   },
   "file_extension": ".py",
   "mimetype": "text/x-python",
   "name": "python",
   "nbconvert_exporter": "python",
   "pygments_lexer": "ipython3",
   "version": "3.12.5"
  }
 },
 "nbformat": 4,
 "nbformat_minor": 5
}
