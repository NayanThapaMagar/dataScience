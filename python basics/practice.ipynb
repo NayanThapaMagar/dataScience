{
 "cells": [
  {
   "cell_type": "markdown",
   "id": "796ab67f-b558-4f17-b487-71e89d744c0a",
   "metadata": {},
   "source": [
    "# int, float, str, type and type conversion, complex numbers, arithmetic operations, \n"
   ]
  },
  {
   "cell_type": "code",
   "execution_count": 2,
   "id": "def5fd13-c738-4524-aa55-10a117ba3d9c",
   "metadata": {},
   "outputs": [
    {
     "name": "stdout",
     "output_type": "stream",
     "text": [
      "<class 'int'>\n",
      "<class 'float'>\n",
      "<class 'str'>\n"
     ]
    }
   ],
   "source": [
    "x = 2\n",
    "y = 3.125\n",
    "z = \"Hari\"\n",
    "print(type(x))\n",
    "print(type(y))\n",
    "print(type(z))"
   ]
  },
  {
   "cell_type": "code",
   "execution_count": 4,
   "id": "197a1c5f-8430-4d92-b958-630d00445345",
   "metadata": {},
   "outputs": [
    {
     "name": "stdout",
     "output_type": "stream",
     "text": [
      "2.0\n",
      "<class 'float'>\n",
      "3\n",
      "<class 'int'>\n"
     ]
    }
   ],
   "source": [
    "a = float(x)\n",
    "print(a)\n",
    "print(type(a))\n",
    "b = int(y)\n",
    "print(b)\n",
    "print(type(b))"
   ]
  },
  {
   "cell_type": "code",
   "execution_count": 5,
   "id": "8120f556-f3ac-4b2e-8132-14bd917383cb",
   "metadata": {},
   "outputs": [
    {
     "name": "stdout",
     "output_type": "stream",
     "text": [
      "(2+1j)\n"
     ]
    }
   ],
   "source": [
    "c = complex(4, -2)\n",
    "d = -2 + 3j\n",
    "e = c + d\n",
    "print(e)"
   ]
  },
  {
   "cell_type": "code",
   "execution_count": 6,
   "id": "a6f338f8-39e3-46db-b09e-999834254a27",
   "metadata": {},
   "outputs": [
    {
     "name": "stdout",
     "output_type": "stream",
     "text": [
      "<class 'complex'>\n"
     ]
    }
   ],
   "source": [
    "print(type(e))"
   ]
  },
  {
   "cell_type": "markdown",
   "id": "0e59b106-0bbc-4bc6-b624-7849516124d8",
   "metadata": {},
   "source": [
    "# floor division, modular, power, comparison\n",
    "# math functions, power, combination, factorial, round, square root, absolute value\n"
   ]
  },
  {
   "cell_type": "code",
   "execution_count": 8,
   "id": "f1368962-0db2-4670-a7d0-14b639306190",
   "metadata": {},
   "outputs": [
    {
     "name": "stdout",
     "output_type": "stream",
     "text": [
      "8\n",
      "4 0\n"
     ]
    }
   ],
   "source": [
    "a = 2**3\n",
    "print(a)\n",
    "b = a // 2\n",
    "c = a % 2\n",
    "print(b, c)"
   ]
  },
  {
   "cell_type": "code",
   "execution_count": 10,
   "id": "acaaae29-5fa3-4415-b43a-badcaa174081",
   "metadata": {},
   "outputs": [
    {
     "name": "stdout",
     "output_type": "stream",
     "text": [
      "24\n"
     ]
    }
   ],
   "source": [
    "import math\n",
    "from math import factorial\n",
    "print(factorial(4))"
   ]
  },
  {
   "cell_type": "code",
   "execution_count": 18,
   "id": "8a8cc275-83c4-48c2-bbd2-0ee7be32cf1f",
   "metadata": {},
   "outputs": [
    {
     "name": "stdout",
     "output_type": "stream",
     "text": [
      "3.141592653589793\n",
      "9\n",
      "10\n",
      "3.142\n",
      "10.0\n",
      "4.0\n",
      "3\n"
     ]
    }
   ],
   "source": [
    "print(math.pi)\n",
    "print(pow(3,2))\n",
    "print(math.comb(5,2))\n",
    "print(round(math.pi, 3))\n",
    "print(round(5+math.pi, -1))\n",
    "print(math.sqrt(16))\n",
    "print(abs(-3))"
   ]
  },
  {
   "cell_type": "code",
   "execution_count": 19,
   "id": "5ddc2f83-f5d8-47a7-8da0-dd29de008810",
   "metadata": {},
   "outputs": [],
   "source": [
    "# log, sin, lcm, maximum, pi, e,"
   ]
  },
  {
   "cell_type": "code",
   "execution_count": 23,
   "id": "1e6627f1-8b51-400b-8731-7d4264453cc6",
   "metadata": {},
   "outputs": [
    {
     "name": "stdout",
     "output_type": "stream",
     "text": [
      "4.605170185988092\n"
     ]
    }
   ],
   "source": [
    "print(math.log(100))"
   ]
  },
  {
   "cell_type": "code",
   "execution_count": 28,
   "id": "2ac9e0dc-7dcc-4fad-a1bb-2cc0213eee24",
   "metadata": {},
   "outputs": [
    {
     "name": "stdout",
     "output_type": "stream",
     "text": [
      "210\n",
      "95\n",
      "0.8509035245341184\n"
     ]
    }
   ],
   "source": [
    "print(math.lcm(2, 5, 6, 7))\n",
    "print(max(2, 5, 6, 7, 95))\n",
    "print(math.sin(45))"
   ]
  },
  {
   "cell_type": "markdown",
   "id": "ceae571a-a250-4a46-b374-3d9162d3c136",
   "metadata": {},
   "source": [
    "# str, capitalize, lower, upper, srtip, replace split endswith\n"
   ]
  },
  {
   "cell_type": "code",
   "execution_count": 35,
   "id": "686d49d6-d105-4dcd-831c-210c0909cc78",
   "metadata": {},
   "outputs": [
    {
     "name": "stdout",
     "output_type": "stream",
     "text": [
      "Hello, world\n",
      "hello, world!\n",
      "HELLO, WORLD\n",
      "hello hello\n",
      "   mello mello\n",
      "['Hello,', 'World!']\n",
      "True\n"
     ]
    }
   ],
   "source": [
    "x = \"Hello, World!\"\n",
    "y = \"hello, world\"\n",
    "\n",
    "print(y.capitalize())\n",
    "print(x.lower())\n",
    "print(y.upper())\n",
    "\n",
    "z = \"   hello hello\"\n",
    "\n",
    "print(z.strip())\n",
    "print(z.replace(\"h\", \"m\"))\n",
    "print(x.split(\" \"))\n",
    "print(x.endswith(\"!\"))"
   ]
  },
  {
   "cell_type": "markdown",
   "id": "4e5dd139-2932-4577-b328-d91f17a40011",
   "metadata": {},
   "source": [
    "# slicing, formatting, concatenation\n"
   ]
  },
  {
   "cell_type": "code",
   "execution_count": 43,
   "id": "00ac1c29-112e-4a3e-a876-e37673e17e51",
   "metadata": {},
   "outputs": [
    {
     "name": "stdout",
     "output_type": "stream",
     "text": [
      "?uoy era woH ,iH\n",
      ",Hw\n",
      "My name is Mechile and my age is 30\n",
      "My name is Mechile and my age is 30\n",
      "My name is Mechile and my age is 30\n",
      "My name is 30 and my age is Mechile\n"
     ]
    }
   ],
   "source": [
    "x = \"Hi, How are you?\"\n",
    "print(x[::-1])\n",
    "print(x[2:8:2])\n",
    "name = \"Mechile\"\n",
    "age = 30\n",
    "print(f\"My name is {name} and my age is {age}\")\n",
    "print(\"My name is {} and my age is {}\".format(name, age))\n",
    "print(\"My name is {0} and my age is {1}\".format(name, age))\n",
    "print(\"My name is {1} and my age is {0}\".format(name, age))"
   ]
  },
  {
   "cell_type": "code",
   "execution_count": 40,
   "id": "91821cf7-9658-4953-985d-a2fb5869abcb",
   "metadata": {},
   "outputs": [
    {
     "name": "stdout",
     "output_type": "stream",
     "text": [
      "Hi how are you?\n",
      "Hi how are you?\n",
      "HiHiHiHi\n"
     ]
    }
   ],
   "source": [
    "x = \"Hi\"\n",
    "y = \"how are you?\"\n",
    "z = f\"{x} {y}\"\n",
    "print(z)\n",
    "a = x + \" \" + y\n",
    "print(a)\n",
    "print(x*4)"
   ]
  },
  {
   "cell_type": "markdown",
   "id": "811c5f38-3693-4647-a8cd-d90f2353676e",
   "metadata": {},
   "source": [
    "# Sequence type\n",
    "## list"
   ]
  },
  {
   "cell_type": "code",
   "execution_count": 1,
   "id": "88a267a0-b5e6-4575-b60b-070931ec0b4e",
   "metadata": {},
   "outputs": [],
   "source": [
    "# accessing, slicing, range, modifying(append, insert, remove, pop, clear)\n"
   ]
  },
  {
   "cell_type": "code",
   "execution_count": 2,
   "id": "8527a219-977e-4b18-b6ba-bf7984c49215",
   "metadata": {},
   "outputs": [
    {
     "name": "stdout",
     "output_type": "stream",
     "text": [
      "[8, 7, 6, 5, 4, 3, 2, 1]\n",
      "[1, 2, 3]\n",
      "[0, 1, 2, 3, 4, 5, 6, 7, 8, 9, 10, 11, 12, 13, 14, 15, 16, 17, 18, 19, 20, 21, 22, 23, 24, 25, 26, 27, 28, 29, 30, 31, 32, 33, 34, 35, 36, 37, 38, 39, 40, 41, 42, 43, 44, 45, 46, 47, 48, 49, 50]\n",
      "[1, 2, 3, 4, 5, 6, 7, 8, 9]\n",
      "[1, 2, 3, 4, 5, 'apple', 6, 7, 8, 9]\n",
      "[1, 2, 3, 4, 5, 6, 7, 8, 9]\n",
      "3 9\n",
      "[]\n"
     ]
    }
   ],
   "source": [
    "print(x[::-1])\n",
    "print(x[0:3])\n",
    "y = list(range(0, 51))\n",
    "print(y)\n",
    "x.append(9)\n",
    "print(x)\n",
    "x.insert(5, \"apple\")\n",
    "print(x)\n",
    "x.remove(\"apple\")\n",
    "print(x)\n",
    "a = x.pop()\n",
    "print(z, a)\n",
    "x.clear()\n",
    "print(x)"
   ]
  },
  {
   "cell_type": "code",
   "execution_count": 3,
   "id": "943e0b3e-36a0-4075-b3da-99b3fd621d0a",
   "metadata": {},
   "outputs": [],
   "source": [
    "# list methods( sort, reverse, index, count)"
   ]
  },
  {
   "cell_type": "code",
   "execution_count": 14,
   "id": "4d327578-8b46-402d-992c-38087c927720",
   "metadata": {},
   "outputs": [
    {
     "name": "stdout",
     "output_type": "stream",
     "text": [
      "[5, 6, 8, 12, 12, 12, 12, 12, 23, 37, 43, 43, 43, 112, 112, 112, 112]\n",
      "[112, 112, 112, 112, 43, 43, 43, 37, 23, 12, 12, 12, 12, 12, 8, 6, 5]\n"
     ]
    }
   ],
   "source": [
    "x = [12, 43, 112, 12, 112, 43, 112, 23, 43, 12, 12, 5, 6, 12, 37, 112, 8]\n",
    "x.sort()\n",
    "print(x)\n",
    "x.sort(reverse = True)\n",
    "print(x)"
   ]
  },
  {
   "cell_type": "code",
   "execution_count": 15,
   "id": "1156c349-07e3-4d59-9cac-af2f9eb8488e",
   "metadata": {},
   "outputs": [
    {
     "name": "stdout",
     "output_type": "stream",
     "text": [
      "[5, 6, 8, 12, 12, 12, 12, 12, 23, 37, 43, 43, 43, 112, 112, 112, 112]\n"
     ]
    }
   ],
   "source": [
    "x.reverse()\n",
    "print(x)"
   ]
  },
  {
   "cell_type": "code",
   "execution_count": 17,
   "id": "45e99f46-b3eb-4d5c-bce8-81d0b0fc19e6",
   "metadata": {},
   "outputs": [
    {
     "name": "stdout",
     "output_type": "stream",
     "text": [
      "5\n",
      "3\n"
     ]
    }
   ],
   "source": [
    "print(x.count(12))\n",
    "print(x.index(12))"
   ]
  },
  {
   "cell_type": "markdown",
   "id": "892596df-d53a-48d1-91e2-aabf586516c3",
   "metadata": {},
   "source": [
    "## tuple\n",
    "immutable"
   ]
  },
  {
   "cell_type": "code",
   "execution_count": 52,
   "id": "1e9be60e-e764-429d-8a0c-996695b99814",
   "metadata": {},
   "outputs": [],
   "source": [
    "# accessing, slicing, \n",
    "# methods, count, index"
   ]
  },
  {
   "cell_type": "code",
   "execution_count": 54,
   "id": "720c420e-7314-4960-882d-e72f679e7a69",
   "metadata": {},
   "outputs": [
    {
     "name": "stdout",
     "output_type": "stream",
     "text": [
      "(1, 2, 3)\n",
      "1\n",
      "2\n"
     ]
    }
   ],
   "source": [
    "my_tuple = (1, 2, 3, 4, 5)\n",
    "print(my_tuple[0:3:1])\n",
    "print(my_tuple.count(1))\n",
    "print(my_tuple.index(3))"
   ]
  },
  {
   "cell_type": "markdown",
   "id": "75d468d0-2cb9-4564-92c0-f3716a25c824",
   "metadata": {},
   "source": [
    "### Set type\n"
   ]
  },
  {
   "cell_type": "code",
   "execution_count": 20,
   "id": "01a01f28-ddad-4d54-ade8-35f6306882c6",
   "metadata": {},
   "outputs": [
    {
     "name": "stdout",
     "output_type": "stream",
     "text": [
      "{1, 2, 3, 4, 5, 6}\n",
      "{3, 4}\n",
      "{1, 2}\n",
      "{1, 2, 5, 6}\n",
      "{0, 1, 2, 3, 4}\n",
      "{1, 2, 3, 4}\n",
      "{1, 2, 3, 4}\n",
      "1\n",
      "set()\n"
     ]
    }
   ],
   "source": [
    "set1 = { 1, 2, 3, 4 }\n",
    "set2 = { 3, 4, 5, 6}\n",
    "\n",
    "set3 = set1.union(set2)\n",
    "print(set3)\n",
    "set3= set1.intersection(set2)\n",
    "print(set3)\n",
    "set3 = set1.difference(set2)\n",
    "print(set3)\n",
    "set3 = set1.symmetric_difference(set2)\n",
    "print(set3)\n",
    "\n",
    "set1.add(0)\n",
    "print(set1)\n",
    "set1.remove(0)\n",
    "print(set1)\n",
    "set1.discard(0)\n",
    "print(set1)\n",
    "x = set1.pop()\n",
    "print(x)\n",
    "set1.clear()\n",
    "print(set1)"
   ]
  },
  {
   "cell_type": "markdown",
   "id": "03a65eb5-1402-420e-9c86-5b9613a0bc9a",
   "metadata": {},
   "source": [
    "### Mapping Type"
   ]
  },
  {
   "cell_type": "code",
   "execution_count": 35,
   "id": "48e020c9-bd2a-4c6a-9ec3-8205062301c2",
   "metadata": {},
   "outputs": [
    {
     "name": "stdout",
     "output_type": "stream",
     "text": [
      "{'name': 'Mark', 'age': '30', 'city': 'Newyork'}\n",
      "{'name': 'Mark', 'age': '30', 'city': 'Newyork'}\n"
     ]
    }
   ],
   "source": [
    "# Creation 2\n",
    "person = dict({ \"name\": \"Mark\", \"age\": \"30\", \"city\":\"Newyork\"})\n",
    "print(person)\n",
    "person = { \"name\": \"Mark\", \"age\": \"30\", \"city\": \"Newyork\"}\n",
    "print(person)"
   ]
  },
  {
   "cell_type": "code",
   "execution_count": 36,
   "id": "fa43832f-35f8-40b6-9f90-23f6f46c9e1b",
   "metadata": {},
   "outputs": [
    {
     "name": "stdout",
     "output_type": "stream",
     "text": [
      "Mark\n",
      "male\n"
     ]
    }
   ],
   "source": [
    "# accessing 2\n",
    "\n",
    "print(person[\"name\"])\n",
    "print(person.get(\"gender\", \"male\"))"
   ]
  },
  {
   "cell_type": "code",
   "execution_count": 37,
   "id": "50fb89ec-f767-4694-8247-14c4f48414fe",
   "metadata": {},
   "outputs": [
    {
     "name": "stdout",
     "output_type": "stream",
     "text": [
      "{'name': 'July', 'age': '30', 'city': 'Newyork'}\n",
      "{'name': 'July', 'age': '30', 'city': 'Newyork', 'gender': 'female'}\n",
      "{'name': 'July', 'age': '30', 'gender': 'female'}\n"
     ]
    }
   ],
   "source": [
    "# modifying 3\n",
    "\n",
    "person[\"name\"] = \"July\"\n",
    "print(person)\n",
    "person[\"gender\"] = \"female\"\n",
    "print(person)\n",
    "del person[\"city\"]\n",
    "print(person)\n"
   ]
  },
  {
   "cell_type": "code",
   "execution_count": 38,
   "id": "5a0fd87a-8bc0-4da2-a904-3704b2a0be23",
   "metadata": {},
   "outputs": [
    {
     "name": "stdout",
     "output_type": "stream",
     "text": [
      "dict_keys(['name', 'age', 'gender'])\n",
      "dict_values(['July', '30', 'female'])\n",
      "dict_items([('name', 'July'), ('age', '30'), ('gender', 'female')])\n",
      "female\n",
      "{'name': 'July', 'age': '30'}\n",
      "{'name': 'July', 'age': '30'}\n",
      "{}\n"
     ]
    }
   ],
   "source": [
    "# methods 4\n",
    "print(person.keys())\n",
    "print(person.values())\n",
    "print(person.items())\n",
    "x = person.pop(\"gender\", \"N/A\")\n",
    "print(x)\n",
    "print(person)\n",
    "p = person.copy()\n",
    "print(p)\n",
    "person.clear()\n",
    "print(person)"
   ]
  },
  {
   "cell_type": "markdown",
   "id": "88c175cd-52ff-4197-9ab1-7208acddbcad",
   "metadata": {},
   "source": [
    "### Boolean type"
   ]
  },
  {
   "cell_type": "code",
   "execution_count": 39,
   "id": "e67502b7-04aa-411b-b285-631f2de793ae",
   "metadata": {},
   "outputs": [],
   "source": [
    "# <, >, and, or, not\n"
   ]
  },
  {
   "cell_type": "code",
   "execution_count": 41,
   "id": "e8b939ee-1c1f-41b8-b8e2-88c3f5f3dbb7",
   "metadata": {},
   "outputs": [
    {
     "name": "stdout",
     "output_type": "stream",
     "text": [
      "True\n",
      "False\n",
      "False\n",
      "True\n",
      "False\n"
     ]
    }
   ],
   "source": [
    "a = 2\n",
    "b = 3\n",
    "c = a < b\n",
    "d = a > b\n",
    "print(c)\n",
    "print(d)\n",
    "print(not c)\n",
    "print( c or d)\n",
    "print(c and d)"
   ]
  },
  {
   "cell_type": "code",
   "execution_count": 40,
   "id": "73d838e3-93ba-4944-b15f-5b50d3837427",
   "metadata": {},
   "outputs": [
    {
     "name": "stdout",
     "output_type": "stream",
     "text": [
      "True\n",
      "False\n",
      "True\n",
      "False\n",
      "True\n",
      "False\n",
      "True\n",
      "False\n",
      "True\n",
      "False\n"
     ]
    }
   ],
   "source": [
    "st = \"hello, world!\"\n",
    "empty_st = \"\"\n",
    "num = 12\n",
    "zeroNum = 0\n",
    "lst = [ 'apple', 2, True]\n",
    "empty_lst = []\n",
    "dic = { \"name\": \"Harry\", \"age\": 30 }\n",
    "empty_dic = {}\n",
    "obj = object()\n",
    "empty_obj = None\n",
    "\n",
    "print(bool(st))\n",
    "print(bool(empty_st))\n",
    "print(bool(num))\n",
    "print(bool(zeroNum))\n",
    "print(bool(lst))\n",
    "print(bool(empty_lst))\n",
    "print(bool(dic))\n",
    "print(bool(empty_dic))\n",
    "print(bool(obj))\n",
    "print(bool(empty_obj))"
   ]
  },
  {
   "cell_type": "markdown",
   "id": "376fabae-bbcf-4308-bd05-3a727bbf51e7",
   "metadata": {},
   "source": [
    "### Binary type"
   ]
  },
  {
   "cell_type": "code",
   "execution_count": 49,
   "id": "15e62426-39e3-4020-93d4-e9826c10cafd",
   "metadata": {},
   "outputs": [
    {
     "name": "stdout",
     "output_type": "stream",
     "text": [
      "b'\\x00\\x01\\x02\\x03\\x04'\n",
      "bytearray(b'\\x00\\x01\\x02\\x03\\x04')\n"
     ]
    }
   ],
   "source": [
    "b = b'\\x00\\x01\\x02\\x03\\x04'\n",
    "\n",
    "b = bytes(b) #should pass encodes string not normal string\n",
    "print(b)\n",
    "\n",
    "ba = bytearray(b)\n",
    "print(ba)"
   ]
  },
  {
   "cell_type": "code",
   "execution_count": 50,
   "id": "4a330e05-dbf3-42ab-83f7-ed0f5025f96e",
   "metadata": {},
   "outputs": [
    {
     "name": "stdout",
     "output_type": "stream",
     "text": [
      "b'\\x01\\x02\\x03\\x04' bytearray(b'\\x01\\x02\\x03\\x04')\n"
     ]
    }
   ],
   "source": [
    "l = [1,2,3,4]\n",
    "\n",
    "b = bytes(l)\n",
    "ba = bytearray(l)\n",
    "print(b, ba)"
   ]
  },
  {
   "cell_type": "code",
   "execution_count": 51,
   "id": "7603825f-3842-48d1-a4ad-dfc94c8bccd5",
   "metadata": {},
   "outputs": [
    {
     "name": "stdout",
     "output_type": "stream",
     "text": [
      "1\n",
      "2\n",
      "1\n",
      "2\n"
     ]
    }
   ],
   "source": [
    "print(b[0])\n",
    "print(b[1])\n",
    "print(ba[0])\n",
    "print(ba[1])"
   ]
  },
  {
   "cell_type": "code",
   "execution_count": 53,
   "id": "5f913b76-62af-4b85-acae-6f437f8d9b83",
   "metadata": {},
   "outputs": [
    {
     "name": "stdout",
     "output_type": "stream",
     "text": [
      "b'Hello, World!'\n",
      "Hello, World!\n"
     ]
    }
   ],
   "source": [
    "string = \"Hello, World!\"\n",
    "\n",
    "e = string.encode()\n",
    "print(e)\n",
    "\n",
    "t = e.decode()\n",
    "print(t)"
   ]
  },
  {
   "cell_type": "code",
   "execution_count": 61,
   "id": "a2e400be-2c77-4a82-acc5-99afe236aef2",
   "metadata": {},
   "outputs": [
    {
     "ename": "UnicodeEncodeError",
     "evalue": "'ascii' codec can't encode character '\\xe9' in position 1: ordinal not in range(128)",
     "output_type": "error",
     "traceback": [
      "\u001b[1;31m-------------------------------------------------\u001b[0m",
      "\u001b[1;31mUnicodeEncodeError\u001b[0mTraceback (most recent call last)",
      "Cell \u001b[1;32mIn[61], line 3\u001b[0m\n\u001b[0;32m      1\u001b[0m string \u001b[38;5;241m=\u001b[39m \u001b[38;5;124m\"\u001b[39m\u001b[38;5;124mrésumé\u001b[39m\u001b[38;5;124m\"\u001b[39m\n\u001b[1;32m----> 3\u001b[0m e \u001b[38;5;241m=\u001b[39m \u001b[43mstring\u001b[49m\u001b[38;5;241;43m.\u001b[39;49m\u001b[43mencode\u001b[49m\u001b[43m(\u001b[49m\u001b[38;5;124;43m'\u001b[39;49m\u001b[38;5;124;43mascii\u001b[39;49m\u001b[38;5;124;43m'\u001b[39;49m\u001b[43m)\u001b[49m\n\u001b[0;32m      4\u001b[0m \u001b[38;5;28mprint\u001b[39m(e)\n\u001b[0;32m      6\u001b[0m t \u001b[38;5;241m=\u001b[39m e\u001b[38;5;241m.\u001b[39mdecode(\u001b[38;5;124m'\u001b[39m\u001b[38;5;124mascii\u001b[39m\u001b[38;5;124m'\u001b[39m)\n",
      "\u001b[1;31mUnicodeEncodeError\u001b[0m: 'ascii' codec can't encode character '\\xe9' in position 1: ordinal not in range(128)"
     ]
    }
   ],
   "source": [
    "string = \"résumé\"\n",
    "\n",
    "e = string.encode('ascii')\n",
    "print(e)\n",
    "\n",
    "t = e.decode('ascii')\n",
    "print(t)"
   ]
  },
  {
   "cell_type": "code",
   "execution_count": 60,
   "id": "f41310bf-bf82-469e-9a56-d1dac8ae49e4",
   "metadata": {},
   "outputs": [
    {
     "name": "stdout",
     "output_type": "stream",
     "text": [
      "b'r\\xc3\\xa9sum\\xc3\\xa9'\n",
      "résumé\n"
     ]
    }
   ],
   "source": [
    "string = \"résumé\"\n",
    "\n",
    "\n",
    "e = string.encode('utf-8')\n",
    "print(e)\n",
    "\n",
    "t = e.decode('utf-8')\n",
    "print(t)"
   ]
  },
  {
   "cell_type": "code",
   "execution_count": 54,
   "id": "306a995d-6378-4544-8d13-4cc7b2d7a5b0",
   "metadata": {},
   "outputs": [
    {
     "name": "stdout",
     "output_type": "stream",
     "text": [
      "01020304\n",
      "01020304\n"
     ]
    }
   ],
   "source": [
    "l = [1,2,3,4]\n",
    "\n",
    "b = bytes(l)\n",
    "ba = bytearray(l)\n",
    "\n",
    "print(b.hex())\n",
    "print(ba.hex())"
   ]
  },
  {
   "cell_type": "markdown",
   "id": "7ff9124f-e016-4bdc-b1ef-92f7192adb32",
   "metadata": {},
   "source": [
    "### Conditional Statements"
   ]
  },
  {
   "cell_type": "code",
   "execution_count": 62,
   "id": "42568331-c632-4bd1-b091-3f6d8f3bbc30",
   "metadata": {},
   "outputs": [
    {
     "name": "stdout",
     "output_type": "stream",
     "text": [
      "Odd\n"
     ]
    }
   ],
   "source": [
    "a = 39\n",
    "if a % 2 == 0:\n",
    "    print(\"Even\")\n",
    "else: \n",
    "    print(\"Odd\")"
   ]
  },
  {
   "cell_type": "code",
   "execution_count": 63,
   "id": "9d189f24-0bf5-4bcd-8b98-4f0b4ce77efc",
   "metadata": {},
   "outputs": [
    {
     "name": "stdout",
     "output_type": "stream",
     "text": [
      "positive number\n",
      "small positive\n"
     ]
    }
   ],
   "source": [
    "if a > 0:\n",
    "    print(\"positive number\")\n",
    "    if a > 50:\n",
    "        print(\"large positive\")\n",
    "    else:\n",
    "        print(\"small positive\")\n",
    "elif a < 0:\n",
    "    print(\"Negative number\")\n",
    "else:\n",
    "    print(\"Zero\")"
   ]
  },
  {
   "cell_type": "code",
   "execution_count": 68,
   "id": "68e2fdc3-24cb-475c-a0a2-9f30a34bf1bc",
   "metadata": {},
   "outputs": [
    {
     "name": "stdout",
     "output_type": "stream",
     "text": [
      "['a']\n"
     ]
    }
   ],
   "source": [
    "lst = [ ]\n",
    "if bool(lst):\n",
    "    print(lst)\n",
    "else:\n",
    "    lst.append(\"a\")\n",
    "    print(lst)"
   ]
  },
  {
   "cell_type": "markdown",
   "id": "1bfef689-2bf5-4070-a914-72fbd3e92467",
   "metadata": {},
   "source": [
    "### Loop Statements"
   ]
  },
  {
   "cell_type": "code",
   "execution_count": 77,
   "id": "b59483e9-f169-4065-b188-bdbf6910b137",
   "metadata": {},
   "outputs": [],
   "source": [
    "# for loop"
   ]
  },
  {
   "cell_type": "code",
   "execution_count": 69,
   "id": "467471b9-ab69-4f63-baa8-d115be861b40",
   "metadata": {},
   "outputs": [
    {
     "name": "stdin",
     "output_type": "stream",
     "text": [
      "Enter a number:  12\n"
     ]
    },
    {
     "name": "stdout",
     "output_type": "stream",
     "text": [
      " 1 * 12 = 12\n",
      " 2 * 12 = 24\n",
      " 3 * 12 = 36\n",
      " 4 * 12 = 48\n",
      " 5 * 12 = 60\n",
      " 6 * 12 = 72\n",
      " 7 * 12 = 84\n",
      " 8 * 12 = 96\n",
      " 9 * 12 = 108\n",
      " 10 * 12 = 120\n"
     ]
    }
   ],
   "source": [
    "num = int(input(\"Enter a number: \"))\n",
    "for i in range (1,11):\n",
    "    print(f\" {i} * {num} = {i*num}\")"
   ]
  },
  {
   "cell_type": "code",
   "execution_count": 76,
   "id": "059fdf8f-79b5-4a0d-a565-36c3477ce5f9",
   "metadata": {},
   "outputs": [
    {
     "name": "stdout",
     "output_type": "stream",
     "text": [
      "jucy apple\n",
      "jucy orange\n",
      "jucy cherry\n",
      "jucy banana\n",
      "red apple\n",
      "red orange\n",
      "red cherry\n",
      "red banana\n",
      "big apple\n",
      "big orange\n",
      "big cherry\n",
      "big banana\n"
     ]
    }
   ],
   "source": [
    "adj = [ \"jucy\", \"red\", \"big\"]\n",
    "fruits = [\"apple\", \"orange\", \"cherry\", \"banana\"]\n",
    "\n",
    "for a in adj:\n",
    "    for fruit in fruits:\n",
    "        print(a, fruit)"
   ]
  },
  {
   "cell_type": "code",
   "execution_count": 79,
   "id": "484352fc-3666-45b3-93da-cdeec4134b5a",
   "metadata": {},
   "outputs": [
    {
     "name": "stdin",
     "output_type": "stream",
     "text": [
      "Enter a number: 12\n"
     ]
    },
    {
     "name": "stdout",
     "output_type": "stream",
     "text": [
      "78\n"
     ]
    }
   ],
   "source": [
    "num = int(input(\"Enter a number:\"))\n",
    "summation = 0\n",
    "for i in range(1,num+1):\n",
    "    summation += i\n",
    "print(summation)"
   ]
  },
  {
   "cell_type": "code",
   "execution_count": 80,
   "id": "f200159d-667e-4311-a202-9b679a7978a4",
   "metadata": {},
   "outputs": [],
   "source": [
    "# while loop"
   ]
  },
  {
   "cell_type": "code",
   "execution_count": 1,
   "id": "d046a2af-729c-4e6d-83c5-210e78643638",
   "metadata": {},
   "outputs": [
    {
     "name": "stdout",
     "output_type": "stream",
     "text": [
      "1\n",
      "2\n",
      "3\n",
      "4\n",
      "5\n",
      "6\n",
      "7\n",
      "8\n",
      "9\n",
      "10\n"
     ]
    }
   ],
   "source": [
    "i = 1\n",
    "while i < 11:\n",
    "    print(i)\n",
    "    i += 1"
   ]
  },
  {
   "cell_type": "code",
   "execution_count": 4,
   "id": "a23ed5b9-9e78-42d6-ae70-298194bd8c99",
   "metadata": {},
   "outputs": [
    {
     "name": "stdout",
     "output_type": "stream",
     "text": [
      "1\n",
      "2\n",
      "3\n",
      "4\n",
      "5\n",
      "6\n",
      "7\n",
      "8\n",
      "9\n",
      "10\n"
     ]
    }
   ],
   "source": [
    "i = 1\n",
    "while i < 20:\n",
    "    if i > 10:\n",
    "        break\n",
    "    print(i)\n",
    "    i += 1    "
   ]
  },
  {
   "cell_type": "code",
   "execution_count": 6,
   "id": "a671df30-98b0-4a45-8694-055ce349200f",
   "metadata": {},
   "outputs": [
    {
     "name": "stdout",
     "output_type": "stream",
     "text": [
      "1\n",
      "3\n",
      "5\n",
      "7\n",
      "9\n",
      "11\n",
      "13\n",
      "15\n",
      "17\n",
      "19\n"
     ]
    }
   ],
   "source": [
    "i = 0\n",
    "while i <= 19:\n",
    "    i += 1\n",
    "    if i % 2 == 0:\n",
    "        continue\n",
    "    print(i)"
   ]
  },
  {
   "cell_type": "code",
   "execution_count": 8,
   "id": "47482dc9-0896-42b9-bde1-9bb816a0b627",
   "metadata": {},
   "outputs": [
    {
     "name": "stdout",
     "output_type": "stream",
     "text": [
      "1\n",
      "3\n",
      "5\n",
      "7\n",
      "9\n",
      "11\n",
      "13\n",
      "15\n",
      "17\n",
      "19\n"
     ]
    }
   ],
   "source": [
    "i = 1\n",
    "while i <= 20:\n",
    "    if i % 2 == 0:\n",
    "        i += 1\n",
    "        continue\n",
    "    print(i)\n",
    "    i += 1"
   ]
  },
  {
   "cell_type": "code",
   "execution_count": 9,
   "id": "7290dd0c-3e13-438a-8563-38c25130e64a",
   "metadata": {},
   "outputs": [
    {
     "name": "stdin",
     "output_type": "stream",
     "text": [
      "Enter a number: 12\n"
     ]
    },
    {
     "name": "stdout",
     "output_type": "stream",
     "text": [
      " 1 * 12 = 12\n",
      " 2 * 12 = 24\n",
      " 3 * 12 = 36\n",
      " 4 * 12 = 48\n",
      " 5 * 12 = 60\n",
      " 6 * 12 = 72\n",
      " 7 * 12 = 84\n",
      " 8 * 12 = 96\n",
      " 9 * 12 = 108\n",
      " 10 * 12 = 120\n"
     ]
    }
   ],
   "source": [
    "i = 1\n",
    "num = int(input(\"Enter a number:\"))\n",
    "while i < 11:\n",
    "    print(f\" {i} * {num} = {i*num}\")\n",
    "    i += 1"
   ]
  },
  {
   "cell_type": "code",
   "execution_count": 3,
   "id": "11eabbf1-ed4e-4025-bdeb-dd18fdb62663",
   "metadata": {},
   "outputs": [
    {
     "name": "stdin",
     "output_type": "stream",
     "text": [
      "Enter a number: 21\n"
     ]
    },
    {
     "name": "stdout",
     "output_type": "stream",
     "text": [
      "231\n"
     ]
    }
   ],
   "source": [
    "num = int(input(\"Enter a number:\"))\n",
    "i = 1\n",
    "summation = 0\n",
    "while i <= num:\n",
    "    summation += i\n",
    "    i += 1\n",
    "print(summation)"
   ]
  },
  {
   "cell_type": "markdown",
   "id": "62c069f0-381a-4f46-9d00-1d91660b781f",
   "metadata": {},
   "source": [
    "### Comprehensions\n",
    "list comprehension"
   ]
  },
  {
   "cell_type": "code",
   "execution_count": 6,
   "id": "6ebd09bf-4f26-4ff8-a668-0e23143c3096",
   "metadata": {},
   "outputs": [
    {
     "name": "stdout",
     "output_type": "stream",
     "text": [
      "[0, 4, 0, 16, 0, 36, 0, 64, 0, 100, 0, 144, 0, 196, 0, 256, 0, 324, 0, 400, 0, 484, 0, 576, 0, 676, 0, 784, 0, 900, 0, 1024, 0, 1156, 0, 1296, 0, 1444, 0, 1600]\n"
     ]
    }
   ],
   "source": [
    "even_squared = [ i**2 if i % 2 == 0 else 0 for i in range(1,41) ]\n",
    "print(even_squared)"
   ]
  },
  {
   "cell_type": "code",
   "execution_count": 8,
   "id": "16ea7140-794b-4998-977c-302e15be91ca",
   "metadata": {},
   "outputs": [
    {
     "name": "stdout",
     "output_type": "stream",
     "text": [
      "[1, 3, 5, 7, 9, 11, 13, 15, 17, 19, 21, 23, 25, 27, 29, 31, 33, 35, 37, 39]\n"
     ]
    }
   ],
   "source": [
    "odd = [ i for i in range(1,40) if i % 2 != 0 ]\n",
    "print(odd)"
   ]
  },
  {
   "cell_type": "code",
   "execution_count": 13,
   "id": "4c26c130-ff13-496d-b096-c1c9c15f8283",
   "metadata": {},
   "outputs": [
    {
     "name": "stdout",
     "output_type": "stream",
     "text": [
      "[('red', 'apple'), ('red', 'mango'), ('red', 'banana'), ('red', 'cherry'), ('jucy', 'apple'), ('jucy', 'mango'), ('jucy', 'banana'), ('jucy', 'cherry'), ('big', 'apple'), ('big', 'mango'), ('big', 'banana'), ('big', 'cherry')]\n",
      "['red apple', 'red mango', 'red banana', 'red cherry', 'jucy apple', 'jucy mango', 'jucy banana', 'jucy cherry', 'big apple', 'big mango', 'big banana', 'big cherry']\n"
     ]
    }
   ],
   "source": [
    "adj = [ 'red', 'jucy', 'big' ]\n",
    "fruits = [ 'apple', 'mango', 'banana', 'cherry' ]\n",
    "\n",
    "result = [ (a, fruit) for a in adj for fruit in fruits ]\n",
    "print(result)\n",
    "result0 = [ f\"{a} {fruit}\" for a in adj for fruit in fruits ]\n",
    "print(result0)"
   ]
  },
  {
   "cell_type": "code",
   "execution_count": 17,
   "id": "523125ee-6bfc-48ec-91fb-2ffb19c22818",
   "metadata": {},
   "outputs": [
    {
     "name": "stdout",
     "output_type": "stream",
     "text": [
      "[3, 5, 7, 7]\n"
     ]
    }
   ],
   "source": [
    "words = ['data', 'science', 'machine', 'learning']\n",
    "\n",
    "length = [ len(set(word)) for word in words ]\n",
    "print(length)"
   ]
  },
  {
   "cell_type": "code",
   "execution_count": 18,
   "id": "f2e69741-e357-44e8-acc7-8354c6839c35",
   "metadata": {},
   "outputs": [
    {
     "name": "stdout",
     "output_type": "stream",
     "text": [
      "[7, 8, 7, 4]\n"
     ]
    }
   ],
   "source": [
    "words = ['data', 'science', 'machine', 'learning', 'learning', 'learning']\n",
    "\n",
    "length = [ len(word) for word in set(words) ]\n",
    "print(length)"
   ]
  },
  {
   "cell_type": "code",
   "execution_count": 20,
   "id": "ab040892-fe24-4e34-a848-5afe401e6e6c",
   "metadata": {},
   "outputs": [
    {
     "name": "stdout",
     "output_type": "stream",
     "text": [
      "[-2, -1, 0, 2, 6, 4, 6, 8]\n"
     ]
    }
   ],
   "source": [
    "input_list = [-2, -1, 0, 1, 3, 2, 3, 4]\n",
    "\n",
    "positive_doubled = [ i*2 if i > 0 else i for i in input_list ]\n",
    "print(positive_doubled)"
   ]
  },
  {
   "cell_type": "code",
   "execution_count": 25,
   "id": "897ede0c-4578-47a1-944d-81d449721603",
   "metadata": {},
   "outputs": [],
   "source": [
    "# set comprehension"
   ]
  },
  {
   "cell_type": "code",
   "execution_count": 21,
   "id": "19aa76dd-9a04-4fee-b683-3d9f3fc543f7",
   "metadata": {},
   "outputs": [
    {
     "name": "stdout",
     "output_type": "stream",
     "text": [
      "{1, 9, 25}\n"
     ]
    }
   ],
   "source": [
    "numbers = [1, 2, 3, 4, 5]\n",
    "odds_set = {num ** 2 for num in numbers if num % 2 != 0}\n",
    "print(odds_set)"
   ]
  },
  {
   "cell_type": "code",
   "execution_count": 24,
   "id": "b63384e0-8ca5-4175-a0ba-93ab69b68783",
   "metadata": {},
   "outputs": [
    {
     "name": "stdout",
     "output_type": "stream",
     "text": [
      "{'i', 'o', 'a', 'e'}\n"
     ]
    }
   ],
   "source": [
    "sent = \"I love Machine Learning\"\n",
    "vowels = set(\"aeiou\")\n",
    "\n",
    "vowels_list = { char for char in set(sent.lower()) if char in vowels }\n",
    "print(vowels_list)"
   ]
  },
  {
   "cell_type": "code",
   "execution_count": 26,
   "id": "021ca355-0856-45c4-af63-23e8ddb10f31",
   "metadata": {},
   "outputs": [],
   "source": [
    "# dictionary comprehension"
   ]
  },
  {
   "cell_type": "code",
   "execution_count": 29,
   "id": "f74f7ab4-1788-457e-9033-33ae47c8f09a",
   "metadata": {},
   "outputs": [
    {
     "name": "stdout",
     "output_type": "stream",
     "text": [
      "{1: 1, 3: 9, 5: 25}\n"
     ]
    }
   ],
   "source": [
    "numbers = [1, 2, 3, 4, 5]\n",
    "\n",
    "odd_dict = { num: num**2 for num in numbers if num % 2 != 0 }\n",
    "print(odd_dict)"
   ]
  },
  {
   "cell_type": "code",
   "execution_count": 31,
   "id": "3ba9207c-18fa-4f99-bb69-39b13b15d401",
   "metadata": {},
   "outputs": [
    {
     "name": "stdout",
     "output_type": "stream",
     "text": [
      "{'h': 1, 'o': 1, 'l': 2, 'e': 1}\n"
     ]
    }
   ],
   "source": [
    "word = 'hello'\n",
    "letter_count = { letter: word.count(letter) for letter in set(word) }\n",
    "print(letter_count)"
   ]
  },
  {
   "cell_type": "code",
   "execution_count": 32,
   "id": "a1b343ff-3d68-4599-9e89-cbe122e62b0c",
   "metadata": {},
   "outputs": [
    {
     "name": "stdout",
     "output_type": "stream",
     "text": [
      "{'data': 4, 'science': 7, 'machine': 7, 'learning': 8}\n"
     ]
    }
   ],
   "source": [
    "word=['data','science','machine','learning']\n",
    "\n",
    "letter_count = { wd: len(wd) for wd in word }\n",
    "print(letter_count)"
   ]
  },
  {
   "cell_type": "code",
   "execution_count": 33,
   "id": "2905bbe3-fcb0-4163-8c47-5524bd6e0ce0",
   "metadata": {},
   "outputs": [
    {
     "name": "stdout",
     "output_type": "stream",
     "text": [
      "{'science': 7, 'machine': 7, 'learning': 8, 'Python': 6}\n"
     ]
    }
   ],
   "source": [
    "word=['data', 'science', 'machine', 'learning', 'Deep', 'Python', 'dict']\n",
    "\n",
    "letter_count = { wd: len(wd) for wd in word if len(wd) >= 5 }\n",
    "print(letter_count)"
   ]
  },
  {
   "cell_type": "markdown",
   "id": "3b2dfb4c-1f03-4db8-b835-effbd43eba1e",
   "metadata": {},
   "source": [
    "### Functions"
   ]
  },
  {
   "cell_type": "code",
   "execution_count": 34,
   "id": "b53df3c6-b7ce-43b9-bf58-10c1b3c73cf6",
   "metadata": {},
   "outputs": [],
   "source": [
    "# built in functions"
   ]
  },
  {
   "cell_type": "code",
   "execution_count": 36,
   "id": "ac56784f-f161-401a-b81b-3091cafb72d9",
   "metadata": {},
   "outputs": [
    {
     "name": "stdout",
     "output_type": "stream",
     "text": [
      "hello-world hello hello hello hello hello hello\n"
     ]
    }
   ],
   "source": [
    "a = 'hello'\n",
    "b = 'world'\n",
    "print(a, b, sep='-', end=' ')\n",
    "print(a, a, a, end=' ')\n",
    "print(a, a, a)"
   ]
  },
  {
   "cell_type": "code",
   "execution_count": 38,
   "id": "b1615450-e215-4914-8c20-a47063e63cde",
   "metadata": {},
   "outputs": [
    {
     "name": "stdout",
     "output_type": "stream",
     "text": [
      "<class 'dict'>\n"
     ]
    }
   ],
   "source": [
    "print(type({ 'h': 'hello', 'e': 'ello' }))"
   ]
  },
  {
   "cell_type": "code",
   "execution_count": 39,
   "id": "878a768a-370a-4fc3-b3b5-8eadaa9222df",
   "metadata": {},
   "outputs": [
    {
     "name": "stdout",
     "output_type": "stream",
     "text": [
      "<class 'bool'>\n"
     ]
    }
   ],
   "source": [
    "print(type(True))"
   ]
  },
  {
   "cell_type": "code",
   "execution_count": 40,
   "id": "e6876a7a-33b5-4b55-95d2-7a221bfdc951",
   "metadata": {},
   "outputs": [
    {
     "name": "stdin",
     "output_type": "stream",
     "text": [
      "enter a number: 12\n"
     ]
    }
   ],
   "source": [
    "x = int(input('enter a number:'))"
   ]
  },
  {
   "cell_type": "code",
   "execution_count": 41,
   "id": "74ee0916-4932-41f3-afc7-fdc1e41cc6f1",
   "metadata": {},
   "outputs": [
    {
     "name": "stdout",
     "output_type": "stream",
     "text": [
      "2\n"
     ]
    }
   ],
   "source": [
    "print(len({ 'h': 'hello', 'e': 'ello' }))"
   ]
  },
  {
   "cell_type": "code",
   "execution_count": 43,
   "id": "1a4e6d4b-f333-464f-b8a3-e964a95b41ad",
   "metadata": {},
   "outputs": [],
   "source": [
    "file = open(file='message.txt', mode='w')\n",
    "file.write(\"This is test message for open() function\")\n",
    "file.close()"
   ]
  },
  {
   "cell_type": "code",
   "execution_count": 44,
   "id": "78bcdb11-1fdc-4961-81ee-d370c8d90bbb",
   "metadata": {},
   "outputs": [
    {
     "name": "stdout",
     "output_type": "stream",
     "text": [
      "This is test message for open() function\n"
     ]
    }
   ],
   "source": [
    "file = open(file='message.txt', mode='r')\n",
    "contents = file.read()\n",
    "print(contents)\n",
    "file.close()"
   ]
  },
  {
   "cell_type": "code",
   "execution_count": 46,
   "id": "e7c3a443-44f1-42ce-8067-b64f1cc7305b",
   "metadata": {},
   "outputs": [
    {
     "name": "stdout",
     "output_type": "stream",
     "text": [
      "['__add__', '__class__', '__class_getitem__', '__contains__', '__delattr__', '__delitem__', '__dir__', '__doc__', '__eq__', '__format__', '__ge__', '__getattribute__', '__getitem__', '__getstate__', '__gt__', '__hash__', '__iadd__', '__imul__', '__init__', '__init_subclass__', '__iter__', '__le__', '__len__', '__lt__', '__mul__', '__ne__', '__new__', '__reduce__', '__reduce_ex__', '__repr__', '__reversed__', '__rmul__', '__setattr__', '__setitem__', '__sizeof__', '__str__', '__subclasshook__', 'append', 'clear', 'copy', 'count', 'extend', 'index', 'insert', 'pop', 'remove', 'reverse', 'sort']\n"
     ]
    }
   ],
   "source": [
    "list1 = [ 1, 2, 4]\n",
    "print(dir(list1))"
   ]
  },
  {
   "cell_type": "code",
   "execution_count": 47,
   "id": "b415bb2d-cc5c-41db-9754-94277a6029cd",
   "metadata": {},
   "outputs": [
    {
     "name": "stdout",
     "output_type": "stream",
     "text": [
      "0:Alice\n",
      "1:Bob\n",
      "2:Charlie\n"
     ]
    }
   ],
   "source": [
    "names = [\"Alice\", \"Bob\", \"Charlie\"]\n",
    "\n",
    "for i, name in enumerate(names):\n",
    "    print(i, name, sep = ':')"
   ]
  },
  {
   "cell_type": "code",
   "execution_count": 49,
   "id": "ea66da9e-d2ee-4450-8561-e86e08f9b769",
   "metadata": {},
   "outputs": [
    {
     "name": "stdout",
     "output_type": "stream",
     "text": [
      "1:Alice\n",
      "2:Bob\n",
      "3:Charlie\n"
     ]
    }
   ],
   "source": [
    "for i, name in enumerate(names, start = 1):\n",
    "    print(i, name, sep=':')"
   ]
  },
  {
   "cell_type": "code",
   "execution_count": 50,
   "id": "8a9097d7-2b1c-4e1d-b4d1-1637df2fdcd0",
   "metadata": {},
   "outputs": [
    {
     "name": "stdout",
     "output_type": "stream",
     "text": [
      "1:a:z\n",
      "2:b:x\n"
     ]
    }
   ],
   "source": [
    "list1 = [1, 2]\n",
    "list2 = ['a', 'b','c']\n",
    "list3 = ['z', 'x']\n",
    "\n",
    "for l1, l2, l3 in zip(list1, list2, list3):\n",
    "    print(l1, end=\":\")\n",
    "    print(l2, end=\":\")\n",
    "    print(l3)"
   ]
  },
  {
   "cell_type": "code",
   "execution_count": 51,
   "id": "81f12d3d-dca3-4a85-9321-f8f01c0ac553",
   "metadata": {},
   "outputs": [
    {
     "name": "stdout",
     "output_type": "stream",
     "text": [
      "[(1, 'a', 'z'), (2, 'b', 'x')]\n"
     ]
    }
   ],
   "source": [
    "print(list(zip(list1, list2, list3)))"
   ]
  },
  {
   "cell_type": "code",
   "execution_count": null,
   "id": "a80433b3-aa71-4b19-8513-0bcc00d16e74",
   "metadata": {},
   "outputs": [],
   "source": []
  }
 ],
 "metadata": {
  "kernelspec": {
   "display_name": "Python 3 (ipykernel)",
   "language": "python",
   "name": "python3"
  },
  "language_info": {
   "codemirror_mode": {
    "name": "ipython",
    "version": 3
   },
   "file_extension": ".py",
   "mimetype": "text/x-python",
   "name": "python",
   "nbconvert_exporter": "python",
   "pygments_lexer": "ipython3",
   "version": "3.12.5"
  }
 },
 "nbformat": 4,
 "nbformat_minor": 5
}
