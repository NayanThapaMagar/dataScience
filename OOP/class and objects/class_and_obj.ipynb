{
 "cells": [
  {
   "cell_type": "code",
   "execution_count": null,
   "id": "449506ba-58b9-4d3e-ad61-c43a6772b299",
   "metadata": {},
   "outputs": [],
   "source": []
  }
 ],
 "metadata": {
  "kernelspec": {
   "display_name": "",
   "name": ""
  },
  "language_info": {
   "name": ""
  }
 },
 "nbformat": 4,
 "nbformat_minor": 5
}
