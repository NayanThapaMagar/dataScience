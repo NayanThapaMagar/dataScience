{
 "cells": [
  {
   "cell_type": "markdown",
   "id": "7c9b700e-c4ca-4540-adcb-cc30e3eed058",
   "metadata": {},
   "source": [
    "### List comprehensions\n",
    "\n"
   ]
  },
  {
   "cell_type": "code",
   "execution_count": 5,
   "id": "65830be6-4724-4d68-b984-b9b16adbd633",
   "metadata": {},
   "outputs": [
    {
     "name": "stdout",
     "output_type": "stream",
     "text": [
      "[1, 4, 9, 16, 25]\n"
     ]
    }
   ],
   "source": [
    "# ususal way\n",
    "number = [1,2,3,4,5]\n",
    "squared = []\n",
    "for each in number:\n",
    "    squared.append(each**2)\n",
    "print(squared)"
   ]
  },
  {
   "cell_type": "code",
   "execution_count": 6,
   "id": "c31a38cf-e04f-4a93-9380-e545772c637e",
   "metadata": {},
   "outputs": [
    {
     "name": "stdout",
     "output_type": "stream",
     "text": [
      "[1, 4, 9, 16, 25]\n"
     ]
    }
   ],
   "source": [
    "# list comprehension \n",
    "\n",
    "squared = [i**2 for i in number]\n",
    "print(squared)"
   ]
  },
  {
   "cell_type": "code",
   "execution_count": 7,
   "id": "58472dfb-7685-422c-b3e5-9da18e3cf4bb",
   "metadata": {},
   "outputs": [
    {
     "name": "stdout",
     "output_type": "stream",
     "text": [
      "[4, 16, 36, 64, 100]\n"
     ]
    }
   ],
   "source": [
    "squared = [i**2 for i in range(1, 11) if i%2 == 0]\n",
    "print(squared)"
   ]
  },
  {
   "cell_type": "code",
   "execution_count": 8,
   "id": "c563199d-f07e-49fc-a8de-14609196d1a8",
   "metadata": {},
   "outputs": [
    {
     "name": "stdout",
     "output_type": "stream",
     "text": [
      "[1, 4, 3, 16, 5, 36, 7, 64, 9, 100]\n"
     ]
    }
   ],
   "source": [
    "squared = [i**2 if i%2 == 0 else i for i in range(1, 11) ]\n",
    "print(squared)"
   ]
  },
  {
   "cell_type": "code",
   "execution_count": 9,
   "id": "c1bb691b-c683-4a1b-bbeb-182e233bcd16",
   "metadata": {},
   "outputs": [
    {
     "name": "stdout",
     "output_type": "stream",
     "text": [
      "[('red', 'apple'), ('red', 'banana'), ('red', 'cherry'), ('big', 'apple'), ('big', 'banana'), ('big', 'cherry'), ('tasty', 'apple'), ('tasty', 'banana'), ('tasty', 'cherry')]\n"
     ]
    }
   ],
   "source": [
    "adj = ['red', 'big', 'tasty']\n",
    "fruits = ['apple', 'banana', 'cherry']\n",
    "\n",
    "result = [(a, fruit) for a in adj for fruit in fruits]\n",
    "print(result)"
   ]
  },
  {
   "cell_type": "code",
   "execution_count": 10,
   "id": "8054c97e-9ba6-4bf3-8bfb-0f3bbf8ee658",
   "metadata": {},
   "outputs": [
    {
     "name": "stdout",
     "output_type": "stream",
     "text": [
      "[3, 5, 7, 7]\n"
     ]
    }
   ],
   "source": [
    "words = ['data', 'science', 'machine', 'learning']\n",
    "\n",
    "uniqueLen = [len(set(word)) for word in words]\n",
    "print(uniqueLen)\n",
    " "
   ]
  },
  {
   "cell_type": "markdown",
   "id": "d8488b1e-e09a-4ff4-8ea1-73d3c3ddb5a2",
   "metadata": {},
   "source": [
    "### Set comprehension"
   ]
  },
  {
   "cell_type": "code",
   "execution_count": 14,
   "id": "be3cae50-2604-4a0d-9315-6ca5f2f64485",
   "metadata": {},
   "outputs": [
    {
     "name": "stdout",
     "output_type": "stream",
     "text": [
      "{'o', 'e', 'a', 'i'}\n"
     ]
    }
   ],
   "source": [
    "# sentence = \"the quick brown fox jumped over the lazy dog\"\n",
    "sentence = \"i love machile learning\"\n",
    "\n",
    "vowels = \"aeiou\"\n",
    "\n",
    "output = { char for char in sentence if char in vowels}\n",
    "\n",
    "print(output)"
   ]
  },
  {
   "cell_type": "code",
   "execution_count": 1,
   "id": "39d59d94-e922-46c8-aff2-bb579082802b",
   "metadata": {},
   "outputs": [],
   "source": [
    "### Dictionary comprehension"
   ]
  },
  {
   "cell_type": "code",
   "execution_count": 4,
   "id": "4eb759c3-87ee-4e29-b672-dc5a5446e794",
   "metadata": {},
   "outputs": [
    {
     "name": "stdout",
     "output_type": "stream",
     "text": [
      "{1: 1, 3: 9, 5: 25}\n"
     ]
    }
   ],
   "source": [
    "numbers = [ 1, 2, 3, 4, 5]\n",
    "\n",
    "odds_dict = { num: num**2 for num in numbers if num % 2 != 0 }\n",
    "\n",
    "print(odds_dict)"
   ]
  },
  {
   "cell_type": "code",
   "execution_count": 9,
   "id": "6288110d-0632-4155-925d-bae148358678",
   "metadata": {},
   "outputs": [
    {
     "name": "stdout",
     "output_type": "stream",
     "text": [
      "{'!': 1, ' ': 1, 'h': 1, 'l': 3, 'd': 1, 'w': 1, 'e': 1, ',': 1, 'r': 1, 'o': 2}\n"
     ]
    }
   ],
   "source": [
    "word = 'hello, world!'\n",
    "\n",
    "letter_count = { letter: word.count(letter) for letter in set(word) }\n",
    "\n",
    "print(letter_count)"
   ]
  },
  {
   "cell_type": "code",
   "execution_count": 25,
   "id": "3311798b-048c-4924-94f0-8658b2424f89",
   "metadata": {},
   "outputs": [
    {
     "name": "stdout",
     "output_type": "stream",
     "text": [
      "{'data': 4, 'science': 7, 'machile': 7, 'learning': 8}\n"
     ]
    }
   ],
   "source": [
    "words = [ \"data\", \"science\", \"machile\", \"learning\" ]\n",
    "\n",
    "word_detail = { word: len(word) for word in words }\n",
    "\n",
    "print(word_detail)"
   ]
  },
  {
   "cell_type": "code",
   "execution_count": 14,
   "id": "39086ebf-f93e-4092-bf44-80ca65c9f167",
   "metadata": {},
   "outputs": [
    {
     "name": "stdout",
     "output_type": "stream",
     "text": [
      "{'Dictionary': 10, 'comprehensions': 14, 'nested,': 7, 'allowing': 8, 'create': 6, 'complex': 7, 'dictionaries.': 13, 'example': 7, 'creates': 7, 'dictionary': 10, 'letter': 6, 'counts': 6}\n"
     ]
    }
   ],
   "source": [
    "words = ['Dictionary', 'comprehensions', 'can', 'also', 'be', 'nested,', 'allowing', 'you', 'to', 'create', 'more', 'complex', 'dictionaries.', 'Here', 'is', 'an', 'example', 'that', 'creates', 'a', 'dictionary', 'of', 'letter','counts']\n",
    "\n",
    "large_words = { word: len(word) for word in words if len(word) >= 5 }\n",
    "\n",
    "print(large_words)"
   ]
  },
  {
   "cell_type": "code",
   "execution_count": null,
   "id": "12c5f8b1-0784-4b69-b85d-ebb45651c8f7",
   "metadata": {},
   "outputs": [],
   "source": []
  }
 ],
 "metadata": {
  "kernelspec": {
   "display_name": "Python 3 (ipykernel)",
   "language": "python",
   "name": "python3"
  },
  "language_info": {
   "codemirror_mode": {
    "name": "ipython",
    "version": 3
   },
   "file_extension": ".py",
   "mimetype": "text/x-python",
   "name": "python",
   "nbconvert_exporter": "python",
   "pygments_lexer": "ipython3",
   "version": "3.12.5"
  }
 },
 "nbformat": 4,
 "nbformat_minor": 5
}
