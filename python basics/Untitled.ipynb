{
 "cells": [
  {
   "cell_type": "markdown",
   "id": "bf3b596c-dad5-4ab9-9e92-3ef517c04fe9",
   "metadata": {},
   "source": [
    "### Basic functions"
   ]
  },
  {
   "cell_type": "code",
   "execution_count": 8,
   "id": "fcf89131-5090-4c0f-8294-9ce0387f3732",
   "metadata": {},
   "outputs": [
    {
     "name": "stdout",
     "output_type": "stream",
     "text": [
      "3\n"
     ]
    }
   ],
   "source": [
    "print(x)"
   ]
  },
  {
   "cell_type": "code",
   "execution_count": 7,
   "id": "f9828152-6fa1-4edf-83cc-7671c11dbb62",
   "metadata": {},
   "outputs": [],
   "source": [
    "x = 3"
   ]
  },
  {
   "cell_type": "code",
   "execution_count": 9,
   "id": "4df164a5-b5f3-458b-971c-4fcaf57856aa",
   "metadata": {},
   "outputs": [
    {
     "data": {
      "text/plain": [
       "int"
      ]
     },
     "execution_count": 9,
     "metadata": {},
     "output_type": "execute_result"
    }
   ],
   "source": [
    "type(x)"
   ]
  },
  {
   "cell_type": "code",
   "execution_count": 10,
   "id": "205fe809-6544-472a-a211-ea7ea22fc074",
   "metadata": {},
   "outputs": [
    {
     "data": {
      "text/plain": [
       "3.0"
      ]
     },
     "execution_count": 10,
     "metadata": {},
     "output_type": "execute_result"
    }
   ],
   "source": [
    "float(x)"
   ]
  },
  {
   "cell_type": "code",
   "execution_count": 12,
   "id": "dccb11b1-1732-44a2-a83d-1d01f36f5516",
   "metadata": {},
   "outputs": [],
   "source": [
    "y=3.145394858"
   ]
  },
  {
   "cell_type": "code",
   "execution_count": 15,
   "id": "c385aa1b-2e00-4ae1-9c72-92c23b6c89ee",
   "metadata": {},
   "outputs": [
    {
     "data": {
      "text/plain": [
       "3"
      ]
     },
     "execution_count": 15,
     "metadata": {},
     "output_type": "execute_result"
    }
   ],
   "source": [
    "int(y)"
   ]
  },
  {
   "cell_type": "code",
   "execution_count": 19,
   "id": "223cdc6a-9687-44fd-8764-12c28e8078d1",
   "metadata": {},
   "outputs": [
    {
     "data": {
      "text/plain": [
       "3.15"
      ]
     },
     "execution_count": 19,
     "metadata": {},
     "output_type": "execute_result"
    }
   ],
   "source": [
    "round(y,2)"
   ]
  },
  {
   "cell_type": "markdown",
   "id": "67694073-f982-4e46-8af6-b33d44bfefe3",
   "metadata": {},
   "source": [
    "### complex numbers"
   ]
  },
  {
   "cell_type": "code",
   "execution_count": 21,
   "id": "7416f74e-418f-4a2d-977e-431cf4201791",
   "metadata": {},
   "outputs": [
    {
     "data": {
      "text/plain": [
       "(3+4j)"
      ]
     },
     "execution_count": 21,
     "metadata": {},
     "output_type": "execute_result"
    }
   ],
   "source": [
    "x=3+4j\n",
    "y=complex(4,5)\n",
    "x"
   ]
  },
  {
   "cell_type": "code",
   "execution_count": 22,
   "id": "24dd5b10-23cd-4be1-b472-f703fffe123b",
   "metadata": {},
   "outputs": [
    {
     "data": {
      "text/plain": [
       "(4+5j)"
      ]
     },
     "execution_count": 22,
     "metadata": {},
     "output_type": "execute_result"
    }
   ],
   "source": [
    "y"
   ]
  },
  {
   "cell_type": "code",
   "execution_count": 23,
   "id": "df00a17c-cc23-4bc2-a515-a612d591c7bd",
   "metadata": {},
   "outputs": [
    {
     "data": {
      "text/plain": [
       "(7+9j)"
      ]
     },
     "execution_count": 23,
     "metadata": {},
     "output_type": "execute_result"
    }
   ],
   "source": [
    "z=x+y\n",
    "z"
   ]
  },
  {
   "cell_type": "markdown",
   "id": "5bc06be9-a7f0-42b4-8007-611138f936cf",
   "metadata": {},
   "source": [
    "### floor division "
   ]
  },
  {
   "cell_type": "code",
   "execution_count": 30,
   "id": "395ddec3-cce9-45e5-b097-667e7a2559c3",
   "metadata": {},
   "outputs": [
    {
     "data": {
      "text/plain": [
       "8.0"
      ]
     },
     "execution_count": 30,
     "metadata": {},
     "output_type": "execute_result"
    }
   ],
   "source": [
    "25.343 // 3"
   ]
  },
  {
   "cell_type": "code",
   "execution_count": 31,
   "id": "25b8fda2-aa80-4781-add9-9ee91466f968",
   "metadata": {},
   "outputs": [
    {
     "data": {
      "text/plain": [
       "3.0"
      ]
     },
     "execution_count": 31,
     "metadata": {},
     "output_type": "execute_result"
    }
   ],
   "source": [
    "3.233 // 1"
   ]
  },
  {
   "cell_type": "code",
   "execution_count": 9,
   "id": "8fc4f2ea-1134-4e8f-8830-6bcb679b82d8",
   "metadata": {},
   "outputs": [
    {
     "data": {
      "text/plain": [
       "1"
      ]
     },
     "execution_count": 9,
     "metadata": {},
     "output_type": "execute_result"
    }
   ],
   "source": [
    "25 % 3"
   ]
  },
  {
   "cell_type": "code",
   "execution_count": 8,
   "id": "b1892326-9cec-421c-b8ff-be598f33806a",
   "metadata": {},
   "outputs": [
    {
     "data": {
      "text/plain": [
       "8"
      ]
     },
     "execution_count": 8,
     "metadata": {},
     "output_type": "execute_result"
    }
   ],
   "source": [
    "2 ** 3"
   ]
  },
  {
   "cell_type": "markdown",
   "id": "4c256c89-71a9-4a03-b7c8-204057949530",
   "metadata": {},
   "source": [
    "### Comparison"
   ]
  },
  {
   "cell_type": "code",
   "execution_count": 33,
   "id": "26e95e6b-d752-4a75-ab6e-651ca6b02f1c",
   "metadata": {},
   "outputs": [
    {
     "name": "stdout",
     "output_type": "stream",
     "text": [
      "False\n"
     ]
    }
   ],
   "source": [
    "a = 23\n",
    "b = 35\n",
    "print(a==b)"
   ]
  },
  {
   "cell_type": "code",
   "execution_count": 34,
   "id": "44fa22c1-587c-4c71-96dd-ba1e2593e63d",
   "metadata": {},
   "outputs": [
    {
     "name": "stdout",
     "output_type": "stream",
     "text": [
      "False\n",
      "True\n"
     ]
    }
   ],
   "source": [
    "print(a>b)\n",
    "print(a<b)"
   ]
  },
  {
   "cell_type": "code",
   "execution_count": 35,
   "id": "f5114f66-1fa4-4f8f-962f-577ecc6eed36",
   "metadata": {},
   "outputs": [
    {
     "name": "stdout",
     "output_type": "stream",
     "text": [
      "True\n"
     ]
    }
   ],
   "source": [
    "print(a!=b)"
   ]
  },
  {
   "cell_type": "code",
   "execution_count": 36,
   "id": "7c000c4e-7c5c-44db-bb27-4415e70bc066",
   "metadata": {},
   "outputs": [
    {
     "name": "stdout",
     "output_type": "stream",
     "text": [
      "False\n",
      "True\n"
     ]
    }
   ],
   "source": [
    "print(a>=b)\n",
    "print(a<=b)"
   ]
  },
  {
   "cell_type": "markdown",
   "id": "6354fbc4-75c9-4ce9-a8e4-b4df77fa92db",
   "metadata": {},
   "source": [
    "### Math library"
   ]
  },
  {
   "cell_type": "code",
   "execution_count": 3,
   "id": "88eb5b9e-4099-4aa8-addd-1b37d78f13b3",
   "metadata": {},
   "outputs": [],
   "source": [
    "import math\n",
    "from math import factorial"
   ]
  },
  {
   "cell_type": "code",
   "execution_count": 4,
   "id": "f468dfc0-23e0-48c9-98a1-1a6a152c6770",
   "metadata": {},
   "outputs": [
    {
     "name": "stdout",
     "output_type": "stream",
     "text": [
      "120\n"
     ]
    }
   ],
   "source": [
    "print(factorial(5))"
   ]
  },
  {
   "cell_type": "code",
   "execution_count": 44,
   "id": "c975c49f-4e59-411b-9dc1-d3bb1df1961c",
   "metadata": {},
   "outputs": [
    {
     "data": {
      "text/plain": [
       "12"
      ]
     },
     "execution_count": 44,
     "metadata": {},
     "output_type": "execute_result"
    }
   ],
   "source": [
    "math.lcm(4,12,2)"
   ]
  },
  {
   "cell_type": "code",
   "execution_count": 46,
   "id": "ec0ee106-1923-43f8-902a-a87abfd33fd8",
   "metadata": {},
   "outputs": [
    {
     "data": {
      "text/plain": [
       "3.0"
      ]
     },
     "execution_count": 46,
     "metadata": {},
     "output_type": "execute_result"
    }
   ],
   "source": [
    "math.sqrt(9)"
   ]
  },
  {
   "cell_type": "code",
   "execution_count": 47,
   "id": "b4d0da45-af32-45aa-b773-8b411597a28c",
   "metadata": {},
   "outputs": [
    {
     "data": {
      "text/plain": [
       "10"
      ]
     },
     "execution_count": 47,
     "metadata": {},
     "output_type": "execute_result"
    }
   ],
   "source": [
    "math.comb(5,2)"
   ]
  },
  {
   "cell_type": "code",
   "execution_count": 49,
   "id": "c2486853-2452-4867-8812-632c49558ee1",
   "metadata": {},
   "outputs": [
    {
     "data": {
      "text/plain": [
       "3"
      ]
     },
     "execution_count": 49,
     "metadata": {},
     "output_type": "execute_result"
    }
   ],
   "source": [
    "max(3,1,-4)"
   ]
  },
  {
   "cell_type": "code",
   "execution_count": 50,
   "id": "137858d4-0c4d-4f04-a3a4-fe328ca60549",
   "metadata": {},
   "outputs": [
    {
     "data": {
      "text/plain": [
       "81"
      ]
     },
     "execution_count": 50,
     "metadata": {},
     "output_type": "execute_result"
    }
   ],
   "source": [
    "pow(3,4)"
   ]
  },
  {
   "cell_type": "markdown",
   "id": "cc109401-73cf-4923-a740-b68349a03da3",
   "metadata": {},
   "source": [
    "### Strings"
   ]
  },
  {
   "cell_type": "code",
   "execution_count": 11,
   "id": "f90d624f-407d-4ed7-980d-6621e99998f2",
   "metadata": {},
   "outputs": [],
   "source": [
    "x = \"Hello World\"\n",
    "name = \" nayan thapa magar\""
   ]
  },
  {
   "cell_type": "code",
   "execution_count": 12,
   "id": "e71b3268-9e7b-421b-9b8c-d020cc40793b",
   "metadata": {},
   "outputs": [
    {
     "name": "stdout",
     "output_type": "stream",
     "text": [
      "Hello World\n"
     ]
    }
   ],
   "source": [
    "print(x)"
   ]
  },
  {
   "cell_type": "code",
   "execution_count": 13,
   "id": "ca9c838e-2b66-498e-a222-384088a40717",
   "metadata": {},
   "outputs": [
    {
     "data": {
      "text/plain": [
       "str"
      ]
     },
     "execution_count": 13,
     "metadata": {},
     "output_type": "execute_result"
    }
   ],
   "source": [
    "type(x)"
   ]
  },
  {
   "cell_type": "code",
   "execution_count": 14,
   "id": "319fe352-0b8d-4a7c-91e4-fa047fe42023",
   "metadata": {},
   "outputs": [
    {
     "data": {
      "text/plain": [
       "['__add__',\n",
       " '__class__',\n",
       " '__contains__',\n",
       " '__delattr__',\n",
       " '__dir__',\n",
       " '__doc__',\n",
       " '__eq__',\n",
       " '__format__',\n",
       " '__ge__',\n",
       " '__getattribute__',\n",
       " '__getitem__',\n",
       " '__getnewargs__',\n",
       " '__getstate__',\n",
       " '__gt__',\n",
       " '__hash__',\n",
       " '__init__',\n",
       " '__init_subclass__',\n",
       " '__iter__',\n",
       " '__le__',\n",
       " '__len__',\n",
       " '__lt__',\n",
       " '__mod__',\n",
       " '__mul__',\n",
       " '__ne__',\n",
       " '__new__',\n",
       " '__reduce__',\n",
       " '__reduce_ex__',\n",
       " '__repr__',\n",
       " '__rmod__',\n",
       " '__rmul__',\n",
       " '__setattr__',\n",
       " '__sizeof__',\n",
       " '__str__',\n",
       " '__subclasshook__',\n",
       " 'capitalize',\n",
       " 'casefold',\n",
       " 'center',\n",
       " 'count',\n",
       " 'encode',\n",
       " 'endswith',\n",
       " 'expandtabs',\n",
       " 'find',\n",
       " 'format',\n",
       " 'format_map',\n",
       " 'index',\n",
       " 'isalnum',\n",
       " 'isalpha',\n",
       " 'isascii',\n",
       " 'isdecimal',\n",
       " 'isdigit',\n",
       " 'isidentifier',\n",
       " 'islower',\n",
       " 'isnumeric',\n",
       " 'isprintable',\n",
       " 'isspace',\n",
       " 'istitle',\n",
       " 'isupper',\n",
       " 'join',\n",
       " 'ljust',\n",
       " 'lower',\n",
       " 'lstrip',\n",
       " 'maketrans',\n",
       " 'partition',\n",
       " 'removeprefix',\n",
       " 'removesuffix',\n",
       " 'replace',\n",
       " 'rfind',\n",
       " 'rindex',\n",
       " 'rjust',\n",
       " 'rpartition',\n",
       " 'rsplit',\n",
       " 'rstrip',\n",
       " 'split',\n",
       " 'splitlines',\n",
       " 'startswith',\n",
       " 'strip',\n",
       " 'swapcase',\n",
       " 'title',\n",
       " 'translate',\n",
       " 'upper',\n",
       " 'zfill']"
      ]
     },
     "execution_count": 14,
     "metadata": {},
     "output_type": "execute_result"
    }
   ],
   "source": [
    "dir(x)"
   ]
  },
  {
   "cell_type": "code",
   "execution_count": 104,
   "id": "4422b79b-ff9f-49ae-9410-95161b149045",
   "metadata": {},
   "outputs": [
    {
     "name": "stdout",
     "output_type": "stream",
     "text": [
      " nayan thapa magar\n"
     ]
    }
   ],
   "source": [
    "print(name.lower())"
   ]
  },
  {
   "cell_type": "code",
   "execution_count": 105,
   "id": "1b3999e4-b588-4c6b-a05a-e5f374345fc8",
   "metadata": {},
   "outputs": [
    {
     "name": "stdout",
     "output_type": "stream",
     "text": [
      " NAYAN THAPA MAGAR\n"
     ]
    }
   ],
   "source": [
    "print(name.upper())"
   ]
  },
  {
   "cell_type": "code",
   "execution_count": 120,
   "id": "28be17bb-3446-4610-80ce-9cfdbc11dada",
   "metadata": {},
   "outputs": [
    {
     "name": "stdout",
     "output_type": "stream",
     "text": [
      "nayan thapa magar\n"
     ]
    }
   ],
   "source": [
    "print(name.strip())"
   ]
  },
  {
   "cell_type": "code",
   "execution_count": 119,
   "id": "56fe89dd-c437-456d-a9ce-34f5f1ea3e30",
   "metadata": {},
   "outputs": [
    {
     "name": "stdout",
     "output_type": "stream",
     "text": [
      "ayan thapa magar\n"
     ]
    }
   ],
   "source": [
    "print(name.strip().strip(\"n\"))"
   ]
  },
  {
   "cell_type": "code",
   "execution_count": 111,
   "id": "74e978d7-4daf-4d04-ae42-475b6324530e",
   "metadata": {},
   "outputs": [
    {
     "name": "stdout",
     "output_type": "stream",
     "text": [
      "Heiio Worid\n"
     ]
    }
   ],
   "source": [
    "print(x.replace(\"l\",\"i\"))"
   ]
  },
  {
   "cell_type": "code",
   "execution_count": 108,
   "id": "0c89abeb-4721-4cab-8df0-01bc9837dd5e",
   "metadata": {},
   "outputs": [
    {
     "name": "stdout",
     "output_type": "stream",
     "text": [
      "['Hello', 'World']\n"
     ]
    }
   ],
   "source": [
    "print(x.split(\" \"))"
   ]
  },
  {
   "cell_type": "code",
   "execution_count": 110,
   "id": "cc8ef94d-72b2-47a8-9cf2-4dd80a573451",
   "metadata": {},
   "outputs": [
    {
     "name": "stdout",
     "output_type": "stream",
     "text": [
      "Nayan thapa magar\n"
     ]
    }
   ],
   "source": [
    "print(name.strip().capitalize())"
   ]
  },
  {
   "cell_type": "markdown",
   "id": "9bb0a592-c82b-48ba-a44d-dba48c874b42",
   "metadata": {},
   "source": [
    "### String indexing"
   ]
  },
  {
   "cell_type": "code",
   "execution_count": 1,
   "id": "1be48bc1-bf76-4352-a521-fca381f44d04",
   "metadata": {},
   "outputs": [],
   "source": [
    "x = \"Hello, World!\""
   ]
  },
  {
   "cell_type": "code",
   "execution_count": 2,
   "id": "a516db95-fe39-45c7-a88a-8f417dd2c5b5",
   "metadata": {},
   "outputs": [
    {
     "data": {
      "text/plain": [
       "'H'"
      ]
     },
     "execution_count": 2,
     "metadata": {},
     "output_type": "execute_result"
    }
   ],
   "source": [
    "x[0]\n"
   ]
  },
  {
   "cell_type": "code",
   "execution_count": 3,
   "id": "5e6a963b-fb88-4c13-adb1-bd2e4cde2687",
   "metadata": {},
   "outputs": [
    {
     "data": {
      "text/plain": [
       "'Hello, World!'"
      ]
     },
     "execution_count": 3,
     "metadata": {},
     "output_type": "execute_result"
    }
   ],
   "source": [
    "x[:]"
   ]
  },
  {
   "cell_type": "code",
   "execution_count": 4,
   "id": "b997c1b0-1cd3-4c50-bab5-9e2bcb687294",
   "metadata": {},
   "outputs": [
    {
     "data": {
      "text/plain": [
       "'llo, World!'"
      ]
     },
     "execution_count": 4,
     "metadata": {},
     "output_type": "execute_result"
    }
   ],
   "source": [
    "x[2:]"
   ]
  },
  {
   "cell_type": "code",
   "execution_count": 5,
   "id": "f560cb65-9040-4523-a7f9-9f3771c8b2dc",
   "metadata": {},
   "outputs": [
    {
     "data": {
      "text/plain": [
       "'!dlroW ,olleH'"
      ]
     },
     "execution_count": 5,
     "metadata": {},
     "output_type": "execute_result"
    }
   ],
   "source": [
    "x[::-1]\n",
    "# reverse string"
   ]
  },
  {
   "cell_type": "code",
   "execution_count": 6,
   "id": "5c37a015-a920-4458-8932-9a83204e249f",
   "metadata": {},
   "outputs": [
    {
     "data": {
      "text/plain": [
       "'Hlo '"
      ]
     },
     "execution_count": 6,
     "metadata": {},
     "output_type": "execute_result"
    }
   ],
   "source": [
    "x[:8:2]"
   ]
  },
  {
   "cell_type": "markdown",
   "id": "eb72720a-d206-4071-a02c-67a600a9b468",
   "metadata": {},
   "source": [
    "### string manipulation"
   ]
  },
  {
   "cell_type": "code",
   "execution_count": 155,
   "id": "ec80b0e5-1e21-4942-8c9e-8a47e1434213",
   "metadata": {},
   "outputs": [],
   "source": [
    "name = \"jhon\"\n",
    "age = 25"
   ]
  },
  {
   "cell_type": "code",
   "execution_count": 156,
   "id": "fb3a6ce0-d09c-417f-892a-8d287fe74b70",
   "metadata": {},
   "outputs": [
    {
     "name": "stdout",
     "output_type": "stream",
     "text": [
      "my name is jhon and i am 25 years\n"
     ]
    }
   ],
   "source": [
    "print(\"my name is {} and i am {} years\".format(name, age))"
   ]
  },
  {
   "cell_type": "code",
   "execution_count": 157,
   "id": "50f4425d-f399-4e05-8f77-fb630ca6f2db",
   "metadata": {},
   "outputs": [
    {
     "name": "stdout",
     "output_type": "stream",
     "text": [
      "my name is jhon and i am 25 years\n"
     ]
    }
   ],
   "source": [
    "print(\"my name is {0} and i am {1} years\".format(name, age))"
   ]
  },
  {
   "cell_type": "code",
   "execution_count": 158,
   "id": "f6a2bef8-2394-408c-932d-2cb001f642bf",
   "metadata": {},
   "outputs": [
    {
     "name": "stdout",
     "output_type": "stream",
     "text": [
      "my name is 25 and i am jhon years\n"
     ]
    }
   ],
   "source": [
    "print(\"my name is {1} and i am {0} years\".format(name, age))"
   ]
  },
  {
   "cell_type": "code",
   "execution_count": 159,
   "id": "1309bec6-9ac5-43c1-ace7-16926ab02b1a",
   "metadata": {},
   "outputs": [
    {
     "name": "stdout",
     "output_type": "stream",
     "text": [
      "my name is jhon and i am 25 years\n"
     ]
    }
   ],
   "source": [
    "print(f\"my name is {name} and i am {age} years\")"
   ]
  },
  {
   "cell_type": "markdown",
   "id": "4e33e658-74fd-4bad-b528-6513a98ff38d",
   "metadata": {},
   "source": [
    "### sting concatenation"
   ]
  },
  {
   "cell_type": "code",
   "execution_count": 15,
   "id": "96771382-0d54-4486-9cd7-e19bd2d5ecb2",
   "metadata": {},
   "outputs": [],
   "source": [
    "x = \"Hello\"\n",
    "y = \"world\""
   ]
  },
  {
   "cell_type": "code",
   "execution_count": 17,
   "id": "d92906f1-54cb-4e2d-a9e8-769a5f949ba4",
   "metadata": {},
   "outputs": [
    {
     "data": {
      "text/plain": [
       "'Hello world'"
      ]
     },
     "execution_count": 17,
     "metadata": {},
     "output_type": "execute_result"
    }
   ],
   "source": [
    "x + \" \" + y"
   ]
  },
  {
   "cell_type": "code",
   "execution_count": 18,
   "id": "73bef88e-aa2d-4fc6-a36f-1197d44b79f9",
   "metadata": {},
   "outputs": [
    {
     "data": {
      "text/plain": [
       "'Hello world'"
      ]
     },
     "execution_count": 18,
     "metadata": {},
     "output_type": "execute_result"
    }
   ],
   "source": [
    "f\"{x} {y}\""
   ]
  },
  {
   "cell_type": "code",
   "execution_count": 20,
   "id": "08556184-183f-4a33-94e5-fdcc52ce434e",
   "metadata": {},
   "outputs": [],
   "source": [
    "fst = \"Nayan\"\n",
    "mld = \"\"\n",
    "lst = \"Thapa Magar\""
   ]
  },
  {
   "cell_type": "code",
   "execution_count": 24,
   "id": "0b91ddc7-667d-456e-8af9-ae5f5de726f7",
   "metadata": {},
   "outputs": [
    {
     "name": "stdout",
     "output_type": "stream",
     "text": [
      "Nayan Thapa Magar\n"
     ]
    }
   ],
   "source": [
    "name = fst + \" \" + mld + \" \" + lst\n",
    "name = f\"{fst} {lst}\"\n",
    "print(name)"
   ]
  },
  {
   "cell_type": "code",
   "execution_count": 25,
   "id": "5183f6e9-c8ae-45bd-b324-37d35fe42ba6",
   "metadata": {},
   "outputs": [
    {
     "data": {
      "text/plain": [
       "'ramram'"
      ]
     },
     "execution_count": 25,
     "metadata": {},
     "output_type": "execute_result"
    }
   ],
   "source": [
    "\"ram\"*2"
   ]
  },
  {
   "cell_type": "code",
   "execution_count": 26,
   "id": "b34504cb-c103-4ab1-9bdd-d362c154e90a",
   "metadata": {},
   "outputs": [
    {
     "name": "stdout",
     "output_type": "stream",
     "text": [
      "--------------------\n"
     ]
    }
   ],
   "source": [
    "print(\"--\"*10)"
   ]
  },
  {
   "cell_type": "code",
   "execution_count": null,
   "id": "99930e6e-6cef-49fd-99a6-575cdf753598",
   "metadata": {},
   "outputs": [],
   "source": []
  }
 ],
 "metadata": {
  "kernelspec": {
   "display_name": "Python 3 (ipykernel)",
   "language": "python",
   "name": "python3"
  },
  "language_info": {
   "codemirror_mode": {
    "name": "ipython",
    "version": 3
   },
   "file_extension": ".py",
   "mimetype": "text/x-python",
   "name": "python",
   "nbconvert_exporter": "python",
   "pygments_lexer": "ipython3",
   "version": "3.11.9"
  }
 },
 "nbformat": 4,
 "nbformat_minor": 5
}
