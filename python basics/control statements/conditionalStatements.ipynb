{
 "cells": [
  {
   "cell_type": "code",
   "execution_count": 1,
   "id": "2d9b76a8-988f-4bcc-9f64-ef4ca4866eea",
   "metadata": {},
   "outputs": [
    {
     "name": "stdout",
     "output_type": "stream",
     "text": [
      "small\n"
     ]
    }
   ],
   "source": [
    "if 4 < 5:\n",
    "    print(\"small\")\n",
    "\n"
   ]
  },
  {
   "cell_type": "code",
   "execution_count": 9,
   "id": "3bda1d97-abc5-4ee5-8b63-92b5e928323b",
   "metadata": {},
   "outputs": [
    {
     "name": "stdout",
     "output_type": "stream",
     "text": [
      "x is odd\n"
     ]
    }
   ],
   "source": [
    "x = 7\n",
    "if (x % 2) == 0:\n",
    "    print(\"x is even\")\n",
    "else: \n",
    "    print (\"x is odd\")"
   ]
  },
  {
   "cell_type": "code",
   "execution_count": 10,
   "id": "cdfd7b36-f25d-4af5-8a01-9d37df485fea",
   "metadata": {},
   "outputs": [
    {
     "name": "stdin",
     "output_type": "stream",
     "text": [
      "Enter your number:  5\n"
     ]
    },
    {
     "name": "stdout",
     "output_type": "stream",
     "text": [
      "odd\n"
     ]
    }
   ],
   "source": [
    "number = int(input(\"Enter your number: \"))\n",
    "if number%2 ==0:\n",
    "    print(\"even\")\n",
    "else:\n",
    "    print(\"odd\")\n",
    "\n",
    " "
   ]
  },
  {
   "cell_type": "code",
   "execution_count": 17,
   "id": "ff8cbfca-afbc-4dc9-8489-07ced9846549",
   "metadata": {},
   "outputs": [
    {
     "name": "stdin",
     "output_type": "stream",
     "text": [
      "Enter your marks:  45\n"
     ]
    },
    {
     "name": "stdout",
     "output_type": "stream",
     "text": [
      "C\n"
     ]
    }
   ],
   "source": [
    "marks = int(input(\"Enter your marks: \"))\n",
    "if marks <= 100 and marks >= 80:\n",
    "    print(\"A\")\n",
    "elif marks < 80 and marks >= 60:\n",
    "    print(\"B\")\n",
    "elif marks < 60 and marks >= 40:\n",
    "    print(\"C\")\n",
    "else:\n",
    "    print(\"D\")"
   ]
  },
  {
   "cell_type": "code",
   "execution_count": 20,
   "id": "7306d3a5-ee46-4a12-b7e7-515035f85ccf",
   "metadata": {},
   "outputs": [
    {
     "name": "stdout",
     "output_type": "stream",
     "text": [
      "x is zero\n"
     ]
    }
   ],
   "source": [
    "x = 0\n",
    "if x > 0:\n",
    "    print(f\"{x} is positive\")\n",
    "    if x >= 200:\n",
    "        print(f\"{x} is large number\")\n",
    "    else: \n",
    "        print(f\"{x} is small number\")\n",
    "elif x < 0:\n",
    "    print(f\"{x} is negative number\")\n",
    "\n",
    "else: \n",
    "    print(\"x is zero\")"
   ]
  },
  {
   "cell_type": "code",
   "execution_count": 22,
   "id": "b0583e95-fafc-422c-b7af-a933da1f2f44",
   "metadata": {},
   "outputs": [
    {
     "name": "stdout",
     "output_type": "stream",
     "text": [
      "List is not empty\n",
      "[1, 3]\n"
     ]
    }
   ],
   "source": [
    "list = [1, 3]\n",
    "if bool(list):\n",
    "    print(\"List is not empty\")\n",
    "    print(list)\n",
    "else:\n",
    "    list.append(50)\n",
    "    print(list)"
   ]
  },
  {
   "cell_type": "code",
   "execution_count": null,
   "id": "51c115ea-c71b-4535-b8db-8412011640e3",
   "metadata": {},
   "outputs": [],
   "source": []
  }
 ],
 "metadata": {
  "kernelspec": {
   "display_name": "Python 3 (ipykernel)",
   "language": "python",
   "name": "python3"
  },
  "language_info": {
   "codemirror_mode": {
    "name": "ipython",
    "version": 3
   },
   "file_extension": ".py",
   "mimetype": "text/x-python",
   "name": "python",
   "nbconvert_exporter": "python",
   "pygments_lexer": "ipython3",
   "version": "3.12.5"
  }
 },
 "nbformat": 4,
 "nbformat_minor": 5
}
