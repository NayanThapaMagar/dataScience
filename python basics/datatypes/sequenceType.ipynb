{
 "cells": [
  {
   "cell_type": "markdown",
   "id": "9c4a73fa-c5c3-4cf5-a226-1e7923d756e4",
   "metadata": {},
   "source": [
    "### List"
   ]
  },
  {
   "cell_type": "code",
   "execution_count": 3,
   "id": "d953ced6-00df-436c-aef3-9abf4e02899c",
   "metadata": {},
   "outputs": [],
   "source": [
    "x = [ 1, 2, 3, 4, 5, 6, 7, 8, 9]\n",
    "y = [ \"apple\", \"orange\", \"banana\"]\n",
    "z = [ 1, 'apple', True, 3.1456 ]"
   ]
  },
  {
   "cell_type": "code",
   "execution_count": 4,
   "id": "796fa252-d235-478f-a975-de1cfb612467",
   "metadata": {},
   "outputs": [
    {
     "name": "stdout",
     "output_type": "stream",
     "text": [
      "1\n"
     ]
    }
   ],
   "source": [
    "print(x[0])"
   ]
  },
  {
   "cell_type": "code",
   "execution_count": 5,
   "id": "286a5310-6519-4dff-a595-cd775bfe57d6",
   "metadata": {},
   "outputs": [
    {
     "name": "stdout",
     "output_type": "stream",
     "text": [
      "9\n"
     ]
    }
   ],
   "source": [
    "print(x[-1])"
   ]
  },
  {
   "cell_type": "code",
   "execution_count": 6,
   "id": "a2ec872f-e175-4ba7-9e6a-79e0da84a086",
   "metadata": {},
   "outputs": [
    {
     "name": "stdout",
     "output_type": "stream",
     "text": [
      "8\n"
     ]
    }
   ],
   "source": [
    "print(x[-2])"
   ]
  },
  {
   "cell_type": "code",
   "execution_count": 15,
   "id": "e71d322e-760c-47a5-a0e1-9620957bf57e",
   "metadata": {},
   "outputs": [
    {
     "name": "stdout",
     "output_type": "stream",
     "text": [
      "[0, 2, 4, 6, 8, 10, 12, 14, 16, 18, 20, 22, 24, 26, 28, 30, 32, 34, 36, 38, 40, 42, 44, 46, 48]\n"
     ]
    }
   ],
   "source": [
    "x = list(range(0, 50))\n",
    "print(x[::2])"
   ]
  },
  {
   "cell_type": "code",
   "execution_count": 16,
   "id": "553d2786-8ecc-457f-af76-fcab9ccd3f21",
   "metadata": {},
   "outputs": [
    {
     "name": "stdout",
     "output_type": "stream",
     "text": [
      "[49, 48, 47, 46, 45, 44, 43, 42, 41, 40, 39, 38, 37, 36, 35, 34, 33, 32, 31, 30, 29, 28, 27, 26, 25, 24, 23, 22, 21, 20, 19, 18, 17, 16, 15, 14, 13, 12, 11, 10, 9, 8, 7, 6, 5, 4, 3, 2, 1, 0]\n"
     ]
    }
   ],
   "source": [
    "print(x[::-1])"
   ]
  },
  {
   "cell_type": "code",
   "execution_count": 22,
   "id": "243005e2-6d6b-41e7-8ce3-9240e7861280",
   "metadata": {},
   "outputs": [
    {
     "name": "stdout",
     "output_type": "stream",
     "text": [
      "[1, 2, 23, 4, 5, 6]\n"
     ]
    }
   ],
   "source": [
    "x = [ 1, 2, 3, 4, 5, 6]\n",
    "x[2] = 23\n",
    "print(x)"
   ]
  },
  {
   "cell_type": "code",
   "execution_count": 23,
   "id": "fae92d12-3762-4569-9402-35d149c705a1",
   "metadata": {},
   "outputs": [
    {
     "name": "stdout",
     "output_type": "stream",
     "text": [
      "[1, 2, 23, 4, 5, 6, 9]\n"
     ]
    }
   ],
   "source": [
    "x.append(9)\n",
    "print(x)"
   ]
  },
  {
   "cell_type": "code",
   "execution_count": 24,
   "id": "b57963f0-56b0-4014-a70b-5cfc94ef2beb",
   "metadata": {},
   "outputs": [
    {
     "name": "stdout",
     "output_type": "stream",
     "text": [
      "[1, 2, 'apple', 3, 4, 5, 6]\n"
     ]
    }
   ],
   "source": [
    "x = [1, 2, 3, 4, 5, 6]\n",
    "x.insert(2, \"apple\")\n",
    "print(x)"
   ]
  },
  {
   "cell_type": "code",
   "execution_count": 25,
   "id": "8d2d31d3-37d2-4880-8eb9-7bceac235de8",
   "metadata": {},
   "outputs": [
    {
     "name": "stdout",
     "output_type": "stream",
     "text": [
      "[1, 2, 3, 4, 5, 6]\n"
     ]
    }
   ],
   "source": [
    "x.remove(\"apple\")\n",
    "print(x)"
   ]
  },
  {
   "cell_type": "code",
   "execution_count": 26,
   "id": "1e5dc2ae-ed4f-44e7-b288-c45fe8fa8c16",
   "metadata": {},
   "outputs": [
    {
     "name": "stdout",
     "output_type": "stream",
     "text": [
      "6\n",
      "[1, 2, 3, 4, 5]\n"
     ]
    }
   ],
   "source": [
    "y = x.pop() #takes index of element to pop, by defalut pops last element.\n",
    "print(y)\n",
    "print(x)"
   ]
  },
  {
   "cell_type": "code",
   "execution_count": 56,
   "id": "12cf44a6-dd7a-4c86-adb2-1aedebed894a",
   "metadata": {},
   "outputs": [
    {
     "name": "stdout",
     "output_type": "stream",
     "text": [
      "[]\n"
     ]
    }
   ],
   "source": [
    "x.clear()\n",
    "print(x)"
   ]
  },
  {
   "cell_type": "markdown",
   "id": "74b318a8-6470-4678-afcb-6e7d087fc76e",
   "metadata": {},
   "source": [
    "### List Methods"
   ]
  },
  {
   "cell_type": "code",
   "execution_count": 15,
   "id": "95b48749-f713-4f81-8419-4227be1df3b6",
   "metadata": {},
   "outputs": [
    {
     "name": "stdout",
     "output_type": "stream",
     "text": [
      "[1, 1, 1, 2, 3, 3, 3, 3, 5, 5, 6, 7, 8, 9, 52, 91]\n"
     ]
    }
   ],
   "source": [
    "x = [3, 5, 52, 1, 6, 3, 1, 5, 1, 2, 3, 3, 7, 8, 91, 9]\n",
    "x.sort()\n",
    "print(x)"
   ]
  },
  {
   "cell_type": "code",
   "execution_count": 16,
   "id": "aa7265dd-d9a8-48d4-a2bb-62c5b37ecc4b",
   "metadata": {},
   "outputs": [
    {
     "name": "stdout",
     "output_type": "stream",
     "text": [
      "[91, 52, 9, 8, 7, 6, 5, 5, 3, 3, 3, 3, 2, 1, 1, 1]\n"
     ]
    }
   ],
   "source": [
    "x.sort(reverse=True)\n",
    "print(x)"
   ]
  },
  {
   "cell_type": "code",
   "execution_count": 20,
   "id": "a70f4260-8859-4d40-96c7-3dd488918482",
   "metadata": {},
   "outputs": [
    {
     "name": "stdout",
     "output_type": "stream",
     "text": [
      "[91, 52, 9, 8, 7, 6, 5, 5, 3, 3, 3, 3, 2, 1, 1, 1]\n"
     ]
    }
   ],
   "source": [
    "x.reverse()\n",
    "print(x)"
   ]
  },
  {
   "cell_type": "code",
   "execution_count": 18,
   "id": "7ff86886-eaee-4216-8139-82f4862a8e9a",
   "metadata": {},
   "outputs": [
    {
     "name": "stdout",
     "output_type": "stream",
     "text": [
      "13\n"
     ]
    }
   ],
   "source": [
    "index = x.index(9) # returns index of first occurence of specified number\n",
    "print(index)"
   ]
  },
  {
   "cell_type": "code",
   "execution_count": 19,
   "id": "a1a28b70-626f-44b5-9d15-daa2776c81d1",
   "metadata": {},
   "outputs": [
    {
     "name": "stdout",
     "output_type": "stream",
     "text": [
      "4\n"
     ]
    }
   ],
   "source": [
    "count = x.count(3)\n",
    "print(count)"
   ]
  },
  {
   "cell_type": "markdown",
   "id": "d69755ba-d307-4e69-8a85-4c3abf5d286f",
   "metadata": {},
   "source": [
    "### Tuple"
   ]
  },
  {
   "cell_type": "code",
   "execution_count": 3,
   "id": "09f5847d-fe59-4d09-86ab-40a37b59e1d1",
   "metadata": {},
   "outputs": [
    {
     "name": "stdout",
     "output_type": "stream",
     "text": [
      "(1, 2, 3, 4, 5, 6)\n"
     ]
    }
   ],
   "source": [
    "x = (1, 2, 3, 4, 5, 6)\n",
    "print(x)"
   ]
  },
  {
   "cell_type": "code",
   "execution_count": 4,
   "id": "5e977c0c-808e-4b95-ae57-d3ad3dd006d7",
   "metadata": {},
   "outputs": [
    {
     "name": "stdout",
     "output_type": "stream",
     "text": [
      "1\n"
     ]
    }
   ],
   "source": [
    "print(x[0])"
   ]
  },
  {
   "cell_type": "code",
   "execution_count": 6,
   "id": "8073f80a-df92-4466-887c-cd8f448c8ea9",
   "metadata": {},
   "outputs": [
    {
     "name": "stdout",
     "output_type": "stream",
     "text": [
      "(1, 3, 5)\n"
     ]
    }
   ],
   "source": [
    "print(x[0::2])"
   ]
  },
  {
   "cell_type": "code",
   "execution_count": 7,
   "id": "fbebf62b-8228-4d3c-9d3d-6258886860f6",
   "metadata": {},
   "outputs": [
    {
     "ename": "TypeError",
     "evalue": "'tuple' object does not support item assignment",
     "output_type": "error",
     "traceback": [
      "\u001b[1;31m---------------------------------------------------------------------------\u001b[0m",
      "\u001b[1;31mTypeError\u001b[0m                                 Traceback (most recent call last)",
      "Cell \u001b[1;32mIn[7], line 1\u001b[0m\n\u001b[1;32m----> 1\u001b[0m \u001b[43mx\u001b[49m\u001b[43m[\u001b[49m\u001b[38;5;241;43m1\u001b[39;49m\u001b[43m]\u001b[49m\u001b[38;5;241m=\u001b[39m\u001b[38;5;241m0\u001b[39m \u001b[38;5;66;03m# tuple is immutable meaning cannot update\u001b[39;00m\n",
      "\u001b[1;31mTypeError\u001b[0m: 'tuple' object does not support item assignment"
     ]
    }
   ],
   "source": [
    "x[1]=0 # tuple is immutable meaning cannot update"
   ]
  },
  {
   "cell_type": "code",
   "execution_count": 8,
   "id": "a16ef78c-e777-4505-87b7-ff8b778a9480",
   "metadata": {},
   "outputs": [],
   "source": [
    "# used for fixed variable or constants\n",
    "img_size = (1200, 7820)\n",
    "h = img_size[0]\n",
    "w = img_size[1]"
   ]
  },
  {
   "cell_type": "code",
   "execution_count": 9,
   "id": "0da853c6-b452-4240-a2ac-f729b82f5768",
   "metadata": {},
   "outputs": [
    {
     "name": "stdout",
     "output_type": "stream",
     "text": [
      "1200 7820\n"
     ]
    }
   ],
   "source": [
    "print(h,w)"
   ]
  },
  {
   "cell_type": "code",
   "execution_count": 14,
   "id": "5656afee-281e-4cd3-be6f-64f6be3b7826",
   "metadata": {},
   "outputs": [
    {
     "name": "stdout",
     "output_type": "stream",
     "text": [
      "1\n",
      "1\n"
     ]
    }
   ],
   "source": [
    "print(x.count(1))\n",
    "print(x.index(2))\n"
   ]
  },
  {
   "cell_type": "markdown",
   "id": "7bace284-e1ef-441f-91e9-c56947927220",
   "metadata": {},
   "source": [
    "### Set type\n",
    "unordered collection of unique elements"
   ]
  },
  {
   "cell_type": "code",
   "execution_count": 45,
   "id": "7b37f66c-7ff0-476d-b46d-4e764c9c6731",
   "metadata": {},
   "outputs": [],
   "source": [
    "my_set = set([1, 2, 3, 4, 5, 6])\n",
    "my_set = set((1, 2, 3, 4, 5, 6))\n",
    "my_set = set(\"nayan\") # here passed arguments are called sequence type\n",
    "# or\n",
    "my_set = {1, 2, 3, 4, 5, 6}"
   ]
  },
  {
   "cell_type": "code",
   "execution_count": 46,
   "id": "34cdf8fb-348a-43da-80b6-5947ac23532f",
   "metadata": {},
   "outputs": [
    {
     "name": "stdout",
     "output_type": "stream",
     "text": [
      "{1, 2, 3, 4, 5, 6}\n"
     ]
    }
   ],
   "source": [
    "print(my_set)"
   ]
  },
  {
   "cell_type": "code",
   "execution_count": 47,
   "id": "7b3a2dee-51b4-4021-bb20-fa688f0bbfab",
   "metadata": {},
   "outputs": [],
   "source": [
    "A = {1, 2, 3, 4}\n",
    "B = {3, 4, 5, 6}"
   ]
  },
  {
   "cell_type": "code",
   "execution_count": 48,
   "id": "3e62d03c-73f4-467f-ac64-ed3160679e6a",
   "metadata": {},
   "outputs": [
    {
     "name": "stdout",
     "output_type": "stream",
     "text": [
      "{1, 2, 3, 4, 5, 6}\n"
     ]
    }
   ],
   "source": [
    "set3 = A.union(B)\n",
    "print(set3)"
   ]
  },
  {
   "cell_type": "code",
   "execution_count": 49,
   "id": "a99e29da-2fff-4dcf-9a4a-bdc16dbf2d0e",
   "metadata": {},
   "outputs": [
    {
     "name": "stdout",
     "output_type": "stream",
     "text": [
      "{3, 4}\n"
     ]
    }
   ],
   "source": [
    "set4 = A.intersection(B)\n",
    "print(set4)"
   ]
  },
  {
   "cell_type": "code",
   "execution_count": 50,
   "id": "002ed506-a14b-41bf-bc37-41cd62d745b3",
   "metadata": {},
   "outputs": [
    {
     "name": "stdout",
     "output_type": "stream",
     "text": [
      "{1, 2}\n"
     ]
    }
   ],
   "source": [
    "set5 = A.difference(B)\n",
    "print(set5)"
   ]
  },
  {
   "cell_type": "code",
   "execution_count": 51,
   "id": "11bfb195-1847-40c2-9d54-7bb6a83c754a",
   "metadata": {},
   "outputs": [
    {
     "name": "stdout",
     "output_type": "stream",
     "text": [
      "{1, 2, 5, 6}\n"
     ]
    }
   ],
   "source": [
    "set6 = A.symmetric_difference(B)\n",
    "print(set6) # (A-B) union (B-A)"
   ]
  },
  {
   "cell_type": "code",
   "execution_count": 52,
   "id": "e8ab1be8-b799-4056-bf5d-692ddda32eff",
   "metadata": {},
   "outputs": [
    {
     "name": "stdout",
     "output_type": "stream",
     "text": [
      "{'i', 'u', 'o', 'a', 'e'}\n"
     ]
    }
   ],
   "source": [
    "# no dublicate value in set\n",
    "list = [ 'a' , 'e', 'i', 'o', 'o', 'u']\n",
    "my_set0 = set(list)\n",
    "print(my_set0)"
   ]
  },
  {
   "cell_type": "code",
   "execution_count": 53,
   "id": "12127389-664f-4c2b-baeb-53c26cc85b0d",
   "metadata": {},
   "outputs": [
    {
     "name": "stdout",
     "output_type": "stream",
     "text": [
      "{1, 2, 3, 4, 5, 6, 7}\n"
     ]
    }
   ],
   "source": [
    "my_set.add(7)\n",
    "print(my_set)"
   ]
  },
  {
   "cell_type": "code",
   "execution_count": 54,
   "id": "374fc7eb-313a-477e-b1b0-1cb020b415ff",
   "metadata": {},
   "outputs": [
    {
     "name": "stdout",
     "output_type": "stream",
     "text": [
      "{1, 3, 4, 5, 6, 7}\n"
     ]
    }
   ],
   "source": [
    "my_set.discard(2)\n",
    "print(my_set)"
   ]
  },
  {
   "cell_type": "code",
   "execution_count": 55,
   "id": "a280ceac-a274-4342-85b9-30530cdd6e77",
   "metadata": {},
   "outputs": [
    {
     "name": "stdout",
     "output_type": "stream",
     "text": [
      "1\n",
      "{3, 4, 5, 6, 7}\n"
     ]
    }
   ],
   "source": [
    "x = my_set.pop()\n",
    "print(x)\n",
    "print(my_set)"
   ]
  },
  {
   "cell_type": "code",
   "execution_count": 56,
   "id": "89e20eff-0669-4a54-9b02-82609b398461",
   "metadata": {},
   "outputs": [
    {
     "name": "stdout",
     "output_type": "stream",
     "text": [
      "set()\n"
     ]
    }
   ],
   "source": [
    "my_set.clear()\n",
    "print(my_set)"
   ]
  },
  {
   "cell_type": "code",
   "execution_count": 57,
   "id": "92783cf4-6d36-4829-bcfa-fc8d455afa59",
   "metadata": {},
   "outputs": [
    {
     "name": "stdout",
     "output_type": "stream",
     "text": [
      "{1, 2, 3, 4, 5, 6}\n"
     ]
    }
   ],
   "source": [
    "# initally the elements in set are sorted\n",
    "x = [3, 1, 6, 4, 2, 5]\n",
    "y = set(x)\n",
    "print(y)"
   ]
  },
  {
   "cell_type": "code",
   "execution_count": null,
   "id": "5bdd5bb3-6e35-4f1c-b8a4-4fc3b83f6793",
   "metadata": {},
   "outputs": [],
   "source": []
  }
 ],
 "metadata": {
  "kernelspec": {
   "display_name": "Python 3 (ipykernel)",
   "language": "python",
   "name": "python3"
  },
  "language_info": {
   "codemirror_mode": {
    "name": "ipython",
    "version": 3
   },
   "file_extension": ".py",
   "mimetype": "text/x-python",
   "name": "python",
   "nbconvert_exporter": "python",
   "pygments_lexer": "ipython3",
   "version": "3.12.5"
  }
 },
 "nbformat": 4,
 "nbformat_minor": 5
}
